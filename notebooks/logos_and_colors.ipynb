{
 "cells": [
  {
   "cell_type": "markdown",
   "id": "1ade2e62-38f4-4017-a0d3-e09f8587c376",
   "metadata": {},
   "source": [
    "# Logos and Color Palette of Python-graphblas\n",
    "\n",
    "To create a minimal environment to run this notebook:\n",
    "```bash\n",
    "$ conda create -n drawsvg -c conda-forge drawsvg cairosvg scipy jupyter\n",
    "```"
   ]
  },
  {
   "cell_type": "code",
   "execution_count": 1,
   "id": "bf42676c-190a-4803-a567-09e0ed260d6a",
   "metadata": {},
   "outputs": [],
   "source": [
    "import drawsvg as draw\n",
    "import numpy as np\n",
    "import scipy as sp"
   ]
  },
  {
   "cell_type": "markdown",
   "id": "876a6128-94e4-4fb0-938d-0980a2033701",
   "metadata": {},
   "source": [
    "## Define color palette"
   ]
  },
  {
   "cell_type": "code",
   "execution_count": 2,
   "id": "786f9c9e-d999-4286-bf79-009ca1681604",
   "metadata": {},
   "outputs": [],
   "source": [
    "# primary\n",
    "blue = \"#208BB4\"\n",
    "orange = \"#F87A2D\"\n",
    "dark_gray = \"#4D4D4D\"\n",
    "light_gray = \"#C9D1D9\"\n",
    "\n",
    "# Neutral, light/dark compatible\n",
    "medium_gray = \"#818081\"\n",
    "\n",
    "# secondary\n",
    "light_blue = \"#68B5D3\"\n",
    "light_orange = \"#FFAF7E\"\n",
    "celadon = \"#B2C9AB\"\n",
    "eggplant = \"#463239\"\n",
    "dutch_white = \"#E8DDB5\""
   ]
  },
  {
   "cell_type": "markdown",
   "id": "adb66550-f1e8-4846-a12a-e178fe801295",
   "metadata": {},
   "source": [
    "## Display color palette"
   ]
  },
  {
   "cell_type": "code",
   "execution_count": 3,
   "id": "983b0cb8-db8b-4ad0-ad5a-36975d59289e",
   "metadata": {},
   "outputs": [
    {
     "data": {
      "image/svg+xml": [
       "<?xml version=\"1.0\" encoding=\"UTF-8\"?>\n",
       "<svg xmlns=\"http://www.w3.org/2000/svg\" xmlns:xlink=\"http://www.w3.org/1999/xlink\"\n",
       "     width=\"750\" height=\"500\" viewBox=\"-375.0 -250.0 750 500\">\n",
       "<defs>\n",
       "</defs>\n",
       "<rect x=\"-375\" y=\"-250\" width=\"750\" height=\"500\" fill=\"white\" />\n",
       "<text x=\"0.0\" y=\"-200\" font-size=\"37.5\" text-anchor=\"middle\" font-family=\"Arial\" fill=\"black\">Primary</text>\n",
       "<rect x=\"-337.5\" y=\"-175\" width=\"150\" height=\"150\" fill=\"#208BB4\" />\n",
       "<text x=\"-262.5\" y=\"-50\" font-size=\"25\" text-anchor=\"middle\" font-family=\"Arial\" fill=\"white\">#208BB4</text>\n",
       "<rect x=\"-162.5\" y=\"-175\" width=\"150\" height=\"150\" fill=\"#F87A2D\" />\n",
       "<text x=\"-87.5\" y=\"-50\" font-size=\"25\" text-anchor=\"middle\" font-family=\"Arial\" fill=\"white\">#F87A2D</text>\n",
       "<rect x=\"12.5\" y=\"-175\" width=\"150\" height=\"150\" fill=\"#4D4D4D\" />\n",
       "<text x=\"87.5\" y=\"-50\" font-size=\"25\" text-anchor=\"middle\" font-family=\"Arial\" fill=\"white\">#4D4D4D</text>\n",
       "<rect x=\"187.5\" y=\"-175\" width=\"150\" height=\"150\" fill=\"#C9D1D9\" />\n",
       "<text x=\"262.5\" y=\"-50\" font-size=\"25\" text-anchor=\"middle\" font-family=\"Arial\" fill=\"black\">#C9D1D9</text>\n",
       "<rect x=\"-337.5\" y=\"0\" width=\"675\" height=\"45\" fill=\"#818081\" />\n",
       "<text x=\"0.0\" y=\"30\" font-size=\"22.5\" text-anchor=\"middle\" font-family=\"Arial\" fill=\"white\">#818081</text>\n",
       "<text x=\"0.0\" y=\"224\" font-size=\"30.0\" text-anchor=\"middle\" font-family=\"Arial\" fill=\"black\">Secondary</text>\n",
       "<rect x=\"-337.5\" y=\"65\" width=\"119\" height=\"119\" fill=\"#68B5D3\" />\n",
       "<text x=\"-278.0\" y=\"164\" font-size=\"20\" text-anchor=\"middle\" font-family=\"Arial\" fill=\"black\">#68B5D3</text>\n",
       "<rect x=\"-198.5\" y=\"65\" width=\"119\" height=\"119\" fill=\"#FFAF7E\" />\n",
       "<text x=\"-139.0\" y=\"164\" font-size=\"20\" text-anchor=\"middle\" font-family=\"Arial\" fill=\"black\">#FFAF7E</text>\n",
       "<rect x=\"-59.5\" y=\"65\" width=\"119\" height=\"119\" fill=\"#B2C9AB\" />\n",
       "<text x=\"0.0\" y=\"164\" font-size=\"20\" text-anchor=\"middle\" font-family=\"Arial\" fill=\"black\">#B2C9AB</text>\n",
       "<rect x=\"79.5\" y=\"65\" width=\"119\" height=\"119\" fill=\"#463239\" />\n",
       "<text x=\"139.0\" y=\"164\" font-size=\"20\" text-anchor=\"middle\" font-family=\"Arial\" fill=\"white\">#463239</text>\n",
       "<rect x=\"218.5\" y=\"65\" width=\"119\" height=\"119\" fill=\"#E8DDB5\" />\n",
       "<text x=\"278.0\" y=\"164\" font-size=\"20\" text-anchor=\"middle\" font-family=\"Arial\" fill=\"black\">#E8DDB5</text>\n",
       "</svg>"
      ],
      "text/plain": [
       "<drawsvg.drawing.Drawing at 0x7fd9c4227750>"
      ]
     },
     "execution_count": 3,
     "metadata": {},
     "output_type": "execute_result"
    }
   ],
   "source": [
    "d = draw.Drawing(750, 500, origin=\"center\")\n",
    "d.append(\n",
    "    draw.Rectangle(-375, -250, 750, 500, fill=\"white\")\n",
    ")  # Add `stroke=\"black\"` border to see boundaries for testing\n",
    "\n",
    "dy = 25\n",
    "dx = 0\n",
    "w = h = 150\n",
    "b = 25\n",
    "x = -400 + 62.5 + dx\n",
    "y = -200 + dy\n",
    "\n",
    "d.draw(\n",
    "    draw.Text(\n",
    "        \"Primary\",\n",
    "        x=x + 1.5 * (b + w) + w / 2,\n",
    "        y=y - b,\n",
    "        font_size=1.5 * b,\n",
    "        text_anchor=\"middle\",\n",
    "        font_family=\"Arial\",\n",
    "        fill=\"black\",\n",
    "    )\n",
    ")\n",
    "d.draw(draw.Rectangle(x, y, w, h, fill=blue))\n",
    "d.draw(\n",
    "    draw.Text(\n",
    "        blue.upper(),\n",
    "        x=x + w / 2,\n",
    "        y=y + h - b,\n",
    "        font_size=b,\n",
    "        text_anchor=\"middle\",\n",
    "        font_family=\"Arial\",\n",
    "        fill=\"white\",\n",
    "    )\n",
    ")\n",
    "d.draw(draw.Rectangle(x + b + w, y, w, h, fill=orange))\n",
    "d.draw(\n",
    "    draw.Text(\n",
    "        orange.upper(),\n",
    "        x=x + (b + w) + w / 2,\n",
    "        y=y + h - b,\n",
    "        font_size=b,\n",
    "        text_anchor=\"middle\",\n",
    "        font_family=\"Arial\",\n",
    "        fill=\"white\",\n",
    "    )\n",
    ")\n",
    "d.draw(draw.Rectangle(x + 2 * (b + w), y, w, h, fill=dark_gray))\n",
    "d.draw(\n",
    "    draw.Text(\n",
    "        dark_gray.upper(),\n",
    "        x=x + 2 * (b + w) + w / 2,\n",
    "        y=y + h - b,\n",
    "        font_size=b,\n",
    "        text_anchor=\"middle\",\n",
    "        font_family=\"Arial\",\n",
    "        fill=\"white\",\n",
    "    )\n",
    ")\n",
    "d.draw(draw.Rectangle(x + 3 * (b + w), y, w, h, fill=light_gray))\n",
    "d.draw(\n",
    "    draw.Text(\n",
    "        light_gray.upper(),\n",
    "        x=x + 3 * (b + w) + w / 2,\n",
    "        y=y + h - b,\n",
    "        font_size=b,\n",
    "        text_anchor=\"middle\",\n",
    "        font_family=\"Arial\",\n",
    "        fill=\"black\",\n",
    "    )\n",
    ")\n",
    "\n",
    "d.draw(draw.Rectangle(x, -25 + dy, 675, 45, fill=medium_gray))\n",
    "d.draw(\n",
    "    draw.Text(\n",
    "        medium_gray.upper(),\n",
    "        x=x + 675 / 2,\n",
    "        y=-25 + 30 + dy,\n",
    "        font_size=22.5,\n",
    "        text_anchor=\"middle\",\n",
    "        font_family=\"Arial\",\n",
    "        fill=\"white\",\n",
    "    )\n",
    ")\n",
    "\n",
    "y = 40 + dy\n",
    "w = h = 119\n",
    "b = 20\n",
    "d.draw(\n",
    "    draw.Text(\n",
    "        \"Secondary\",\n",
    "        x=x + 2 * (b + w) + w / 2,\n",
    "        y=y + h + 2 * b,\n",
    "        font_size=1.5 * b,\n",
    "        text_anchor=\"middle\",\n",
    "        font_family=\"Arial\",\n",
    "        fill=\"black\",\n",
    "    )\n",
    ")\n",
    "d.draw(draw.Rectangle(x, y, w, h, fill=light_blue))\n",
    "d.draw(\n",
    "    draw.Text(\n",
    "        light_blue.upper(),\n",
    "        x=x + w / 2,\n",
    "        y=y + h - b,\n",
    "        font_size=b,\n",
    "        text_anchor=\"middle\",\n",
    "        font_family=\"Arial\",\n",
    "        fill=\"black\",\n",
    "    )\n",
    ")\n",
    "d.draw(draw.Rectangle(x + b + w, y, w, h, fill=light_orange))\n",
    "d.draw(\n",
    "    draw.Text(\n",
    "        light_orange.upper(),\n",
    "        x=x + (b + w) + w / 2,\n",
    "        y=y + h - b,\n",
    "        font_size=b,\n",
    "        text_anchor=\"middle\",\n",
    "        font_family=\"Arial\",\n",
    "        fill=\"black\",\n",
    "    )\n",
    ")\n",
    "d.draw(draw.Rectangle(x + 2 * (b + w), y, w, h, fill=celadon))\n",
    "d.draw(\n",
    "    draw.Text(\n",
    "        celadon.upper(),\n",
    "        x=x + 2 * (b + w) + w / 2,\n",
    "        y=y + h - b,\n",
    "        font_size=b,\n",
    "        text_anchor=\"middle\",\n",
    "        font_family=\"Arial\",\n",
    "        fill=\"black\",\n",
    "    )\n",
    ")\n",
    "d.draw(draw.Rectangle(x + 3 * (b + w), y, w, h, fill=eggplant))\n",
    "d.draw(\n",
    "    draw.Text(\n",
    "        eggplant.upper(),\n",
    "        x=x + 3 * (b + w) + w / 2,\n",
    "        y=y + h - b,\n",
    "        font_size=b,\n",
    "        text_anchor=\"middle\",\n",
    "        font_family=\"Arial\",\n",
    "        fill=\"white\",\n",
    "    )\n",
    ")\n",
    "d.draw(draw.Rectangle(x + 4 * (b + w), y, w, h, fill=dutch_white))\n",
    "d.draw(\n",
    "    draw.Text(\n",
    "        dutch_white.upper(),\n",
    "        x=x + 4 * (b + w) + w / 2,\n",
    "        y=y + h - b,\n",
    "        font_size=b,\n",
    "        text_anchor=\"middle\",\n",
    "        font_family=\"Arial\",\n",
    "        fill=\"black\",\n",
    "    )\n",
    ")\n",
    "\n",
    "# d.save()\n",
    "d_color_palette = d\n",
    "d"
   ]
  },
  {
   "cell_type": "markdown",
   "id": "e59c3941-c73b-455e-88f2-4b3aae228421",
   "metadata": {},
   "source": [
    "## Display color wheel"
   ]
  },
  {
   "cell_type": "code",
   "execution_count": 4,
   "id": "c27e8ef2-04f2-4752-9c3b-cf297a0c87a5",
   "metadata": {},
   "outputs": [
    {
     "data": {
      "image/svg+xml": [
       "<?xml version=\"1.0\" encoding=\"UTF-8\"?>\n",
       "<svg xmlns=\"http://www.w3.org/2000/svg\" xmlns:xlink=\"http://www.w3.org/1999/xlink\"\n",
       "     width=\"300\" height=\"300\" viewBox=\"-150.0 -150.0 300 300\">\n",
       "<defs>\n",
       "<clipPath id=\"oKSxnbRS0\">\n",
       "<path d=\"M0,0 L259.8076211353316,150.00000000000003 L150.0000000000001,-259.80762113533154 Z\" />\n",
       "</clipPath>\n",
       "<clipPath id=\"oKSxnbRS1\">\n",
       "<path d=\"M0,0 L259.8076211353316,-149.99999999999994 L-149.99999999999991,-259.80762113533166 Z\" />\n",
       "</clipPath>\n",
       "<clipPath id=\"oKSxnbRS2\">\n",
       "<path d=\"M0,0 L3.6739403974420595e-14,-300.0 L-300.0,-5.510910596163089e-14 Z\" />\n",
       "</clipPath>\n",
       "<clipPath id=\"oKSxnbRS3\">\n",
       "<path d=\"M0,0 L-259.8076211353315,-150.00000000000014 L-150.00000000000014,259.8076211353315 Z\" />\n",
       "</clipPath>\n",
       "<clipPath id=\"oKSxnbRS4\">\n",
       "<path d=\"M0,0 L-259.8076211353316,150.00000000000003 L-7.347880794884119e-14,300.0 Z\" />\n",
       "</clipPath>\n",
       "<clipPath id=\"oKSxnbRS5\">\n",
       "<path d=\"M0,0 L-259.8076211353315,-150.00000000000014 L-150.00000000000014,259.8076211353315 Z\" />\n",
       "</clipPath>\n",
       "<clipPath id=\"oKSxnbRS6\">\n",
       "<path d=\"M0,0 L-259.8076211353316,150.00000000000003 L150.0,259.8076211353316 Z\" />\n",
       "</clipPath>\n",
       "<clipPath id=\"oKSxnbRS7\">\n",
       "<path d=\"M0,0 L0.0,300.0 L300.0,1.8369701987210297e-14 Z\" />\n",
       "</clipPath>\n",
       "<clipPath id=\"oKSxnbRS8\">\n",
       "<path d=\"M0,0 L259.8076211353316,150.00000000000003 L150.0000000000001,-259.80762113533154 Z\" />\n",
       "</clipPath>\n",
       "<clipPath id=\"oKSxnbRS9\">\n",
       "<path d=\"M0,0 L259.8076211353316,-149.99999999999994 L3.6739403974420595e-14,-300.0 Z\" />\n",
       "</clipPath>\n",
       "<clipPath id=\"oKSxnbRS10\">\n",
       "<path d=\"M0,0 L259.8076211353316,-149.99999999999994 L-149.99999999999991,-259.80762113533166 Z\" />\n",
       "</clipPath>\n",
       "<clipPath id=\"oKSxnbRS11\">\n",
       "<path d=\"M0,0 L3.6739403974420595e-14,-300.0 L-300.0,-5.510910596163089e-14 Z\" />\n",
       "</clipPath>\n",
       "<clipPath id=\"oKSxnbRS12\">\n",
       "<path d=\"M0,0 L-259.8076211353315,-150.00000000000014 L-150.00000000000014,259.8076211353315 Z\" />\n",
       "</clipPath>\n",
       "<clipPath id=\"oKSxnbRS13\">\n",
       "<path d=\"M0,0 L-259.8076211353316,150.00000000000003 L150.0,259.8076211353316 Z\" />\n",
       "</clipPath>\n",
       "<clipPath id=\"oKSxnbRS14\">\n",
       "<path d=\"M0,0 L0.0,300.0 L259.8076211353316,150.00000000000003 Z\" />\n",
       "</clipPath>\n",
       "</defs>\n",
       "<circle cx=\"0\" cy=\"0\" r=\"145\" fill=\"#208BB4\" />\n",
       "<circle cx=\"0\" cy=\"0\" r=\"145\" fill=\"#C9D1D9\" clip-path=\"url(#oKSxnbRS0)\" />\n",
       "<circle cx=\"0\" cy=\"0\" r=\"145\" fill=\"#68B5D3\" clip-path=\"url(#oKSxnbRS1)\" />\n",
       "<circle cx=\"0\" cy=\"0\" r=\"145\" fill=\"#4D4D4D\" clip-path=\"url(#oKSxnbRS2)\" />\n",
       "<circle cx=\"0\" cy=\"0\" r=\"145\" fill=\"#F87A2D\" clip-path=\"url(#oKSxnbRS3)\" />\n",
       "<circle cx=\"0\" cy=\"0\" r=\"145\" fill=\"#FFAF7E\" clip-path=\"url(#oKSxnbRS4)\" />\n",
       "<circle cx=\"0\" cy=\"0\" r=\"105\" fill=\"#208BB4\" />\n",
       "<circle cx=\"0\" cy=\"0\" r=\"105\" fill=\"#C9D1D9\" clip-path=\"url(#oKSxnbRS5)\" />\n",
       "<circle cx=\"0\" cy=\"0\" r=\"105\" fill=\"#68B5D3\" clip-path=\"url(#oKSxnbRS6)\" />\n",
       "<circle cx=\"0\" cy=\"0\" r=\"105\" fill=\"#4D4D4D\" clip-path=\"url(#oKSxnbRS7)\" />\n",
       "<circle cx=\"0\" cy=\"0\" r=\"105\" fill=\"#F87A2D\" clip-path=\"url(#oKSxnbRS8)\" />\n",
       "<circle cx=\"0\" cy=\"0\" r=\"105\" fill=\"#FFAF7E\" clip-path=\"url(#oKSxnbRS9)\" />\n",
       "<circle cx=\"0\" cy=\"0\" r=\"65\" fill=\"#208BB4\" />\n",
       "<circle cx=\"0\" cy=\"0\" r=\"65\" fill=\"#C9D1D9\" clip-path=\"url(#oKSxnbRS10)\" />\n",
       "<circle cx=\"0\" cy=\"0\" r=\"65\" fill=\"#68B5D3\" clip-path=\"url(#oKSxnbRS11)\" />\n",
       "<circle cx=\"0\" cy=\"0\" r=\"65\" fill=\"#4D4D4D\" clip-path=\"url(#oKSxnbRS12)\" />\n",
       "<circle cx=\"0\" cy=\"0\" r=\"65\" fill=\"#F87A2D\" clip-path=\"url(#oKSxnbRS13)\" />\n",
       "<circle cx=\"0\" cy=\"0\" r=\"65\" fill=\"#FFAF7E\" clip-path=\"url(#oKSxnbRS14)\" />\n",
       "<circle cx=\"0\" cy=\"0\" r=\"25\" fill=\"#818081\" />\n",
       "</svg>"
      ],
      "text/plain": [
       "<drawsvg.drawing.Drawing at 0x7fd9c42266d0>"
      ]
     },
     "execution_count": 4,
     "metadata": {},
     "output_type": "execute_result"
    }
   ],
   "source": [
    "d = draw.Drawing(300, 300, origin=\"center\")\n",
    "\n",
    "color_wheel = [\n",
    "    blue,\n",
    "    light_gray,\n",
    "    light_blue,\n",
    "    dark_gray,\n",
    "    orange,\n",
    "    light_orange,\n",
    "]\n",
    "theta = np.pi / 3\n",
    "\n",
    "angle = 0\n",
    "for i, color in enumerate(color_wheel):\n",
    "    angle = i * np.pi / 3\n",
    "    clip = draw.ClipPath()\n",
    "    if i == 5:\n",
    "        angle_offset = theta\n",
    "    else:\n",
    "        angle_offset = theta * 1.5\n",
    "    clip.append(\n",
    "        draw.Lines(\n",
    "            0,\n",
    "            0,\n",
    "            300 * np.sin(angle),\n",
    "            300 * np.cos(angle),\n",
    "            300 * np.sin(angle + angle_offset),\n",
    "            300 * np.cos(angle + angle_offset),\n",
    "            close=True,\n",
    "        )\n",
    "    )\n",
    "    if i == 0:\n",
    "        clip = None\n",
    "    d.append(draw.Circle(0, 0, 145, fill=color, clip_path=clip))\n",
    "\n",
    "angle = 3 * theta\n",
    "for i, color in enumerate(color_wheel):\n",
    "    angle = ((i + 3) % 6) * np.pi / 3\n",
    "    clip = draw.ClipPath()\n",
    "    if i == 5:\n",
    "        angle_offset = theta\n",
    "    else:\n",
    "        angle_offset = theta * 1.5\n",
    "    clip.append(\n",
    "        draw.Lines(\n",
    "            0,\n",
    "            0,\n",
    "            300 * np.sin(angle),\n",
    "            300 * np.cos(angle),\n",
    "            300 * np.sin(angle + angle_offset),\n",
    "            300 * np.cos(angle + angle_offset),\n",
    "            close=True,\n",
    "        )\n",
    "    )\n",
    "    if i == 0:\n",
    "        clip = None\n",
    "    d.append(draw.Circle(0, 0, 105, fill=color, clip_path=clip))\n",
    "\n",
    "angle = theta\n",
    "for i, color in enumerate(color_wheel):\n",
    "    angle = ((i + 1) % 6) * np.pi / 3\n",
    "    clip = draw.ClipPath()\n",
    "    if i == 5:\n",
    "        angle_offset = theta\n",
    "    else:\n",
    "        angle_offset = theta * 1.5\n",
    "    clip.append(\n",
    "        draw.Lines(\n",
    "            0,\n",
    "            0,\n",
    "            300 * np.sin(angle),\n",
    "            300 * np.cos(angle),\n",
    "            300 * np.sin(angle + angle_offset),\n",
    "            300 * np.cos(angle + angle_offset),\n",
    "            close=True,\n",
    "        )\n",
    "    )\n",
    "    if i == 0:\n",
    "        clip = None\n",
    "    d.append(draw.Circle(0, 0, 65, fill=color, clip_path=clip))\n",
    "\n",
    "d.append(draw.Circle(0, 0, 25, fill=medium_gray))\n",
    "d_color_wheel = d\n",
    "d"
   ]
  },
  {
   "cell_type": "markdown",
   "id": "343256c8-35a7-4c89-aa60-c6bf60930c09",
   "metadata": {},
   "source": [
    "## Create logos"
   ]
  },
  {
   "cell_type": "code",
   "execution_count": 5,
   "id": "7855cd3f-8155-4d11-9730-b6041578e112",
   "metadata": {},
   "outputs": [],
   "source": [
    "angles = [\n",
    "    180,  # Don't modify this\n",
    "    30,  # How much of the \"left face\" to see\n",
    "    22.5,  # How much of the \"top face\" to see\n",
    "]\n",
    "R = sp.spatial.transform.Rotation.from_euler(\"ZYX\", angles, degrees=True).as_matrix()\n",
    "\n",
    "gcube = np.array(\n",
    "    [\n",
    "        [-1, 1, -1],\n",
    "        [-1, 1, 1],\n",
    "        [1, 1, 1],\n",
    "        [-1, -1, 1],\n",
    "        [1, -1, 1],\n",
    "        [1, 0, 1],\n",
    "        [0, 0, 1],\n",
    "    ]\n",
    ")\n",
    "gcube_major = gcube[:5]  # Big circles\n",
    "gcube_minor = gcube[5:]  # Small circles\n",
    "lines = np.array(\n",
    "    [\n",
    "        [gcube[1], gcube[0]],\n",
    "    ]\n",
    ")\n",
    "Gpath = np.array(\n",
    "    [\n",
    "        gcube[2],\n",
    "        gcube[1],\n",
    "        gcube[3],\n",
    "        gcube[4],\n",
    "        gcube[5],\n",
    "        gcube[6],\n",
    "    ]\n",
    ")\n",
    "\n",
    "\n",
    "def create_logo(\n",
    "    *,\n",
    "    bracket_color=None,\n",
    "    bg_color=None,\n",
    "    edge_color=None,\n",
    "    edge_border_color=\"white\",\n",
    "    edge_border_width=16,\n",
    "    node_color=None,\n",
    "    node_border_color=\"white\",\n",
    "    node_stroke_width=4,\n",
    "):\n",
    "    if bracket_color is None:\n",
    "        bracket_color = medium_gray\n",
    "    if edge_color is None:\n",
    "        edge_color = orange\n",
    "    if node_color is None:\n",
    "        node_color = blue\n",
    "\n",
    "    d = draw.Drawing(190, 190, origin=\"center\")\n",
    "    if bg_color:\n",
    "        # Add `stroke=\"black\"` border to see boundaries for testing\n",
    "        d.append(draw.Rectangle(-95, -95, 190, 190, fill=bg_color))\n",
    "\n",
    "    scale = 40\n",
    "    dx = 0\n",
    "    dy = -2\n",
    "\n",
    "    if edge_border_width:\n",
    "        # Add white border around lines\n",
    "        d.append(\n",
    "            draw.Lines(\n",
    "                *(((Gpath @ R) * scale)[:, :2] * [-1, 1]).ravel().tolist(),\n",
    "                fill=\"none\",\n",
    "                stroke=edge_border_color,\n",
    "                stroke_width=edge_border_width,\n",
    "            )\n",
    "        )\n",
    "        for (x0, y0, z0), (x1, y1, z1) in ((lines @ R) * scale).tolist():\n",
    "            x0 = -x0\n",
    "            x1 = -x1  # Just live with this\n",
    "            d.append(\n",
    "                draw.Line(\n",
    "                    x0 + dx,\n",
    "                    y0 + dy,\n",
    "                    x1 + dx,\n",
    "                    y1 + dy,\n",
    "                    stroke=edge_border_color,\n",
    "                    stroke_width=edge_border_width,\n",
    "                )\n",
    "            )\n",
    "\n",
    "    # Add edges\n",
    "    d.append(\n",
    "        draw.Lines(\n",
    "            *(((Gpath @ R) * scale)[:, :2] * [-1, 1]).ravel().tolist(),\n",
    "            fill=\"none\",\n",
    "            stroke=edge_color,\n",
    "            stroke_width=8,\n",
    "        )\n",
    "    )\n",
    "    for (x0, y0, z0), (x1, y1, z1) in ((lines @ R) * scale).tolist():\n",
    "        x0 = -x0\n",
    "        x1 = -x1\n",
    "        d.append(draw.Line(x0 + dx, y0 + dy, x1 + dx, y1 + dy, stroke=edge_color, stroke_width=8))\n",
    "\n",
    "    # Add vertices\n",
    "    for x, y, z in ((gcube_major @ R) * scale).tolist():\n",
    "        x = -x\n",
    "        d.append(\n",
    "            draw.Circle(\n",
    "                x + dx, y + dy, 16, fill=node_color, stroke=node_border_color, stroke_width=4\n",
    "            )\n",
    "        )\n",
    "    for x, y, z in ((gcube_minor @ R) * scale).tolist():\n",
    "        x = -x\n",
    "        d.append(\n",
    "            draw.Circle(\n",
    "                x + dx, y + dy, 8, fill=node_color, stroke=node_border_color, stroke_width=4\n",
    "            )\n",
    "        )\n",
    "\n",
    "    # Add brackets\n",
    "    d.append(\n",
    "        draw.Text(\n",
    "            \"[\",\n",
    "            x=-85,\n",
    "            y=52,\n",
    "            font_size=214,\n",
    "            text_anchor=\"middle\",\n",
    "            font_family=\"Courier New\",\n",
    "            fill=bracket_color,\n",
    "        )\n",
    "    )\n",
    "    d.append(\n",
    "        draw.Text(\n",
    "            \"]\",\n",
    "            x=85,\n",
    "            y=52,\n",
    "            font_size=214,\n",
    "            text_anchor=\"middle\",\n",
    "            font_family=\"Courier New\",\n",
    "            fill=bracket_color,\n",
    "        )\n",
    "    )\n",
    "\n",
    "    return d"
   ]
  },
  {
   "cell_type": "markdown",
   "id": "b187c131-d337-4a7b-ab54-80ebe0f48ab4",
   "metadata": {},
   "source": [
    "### Background-agnostic (works with light and dark mode)"
   ]
  },
  {
   "cell_type": "code",
   "execution_count": 6,
   "id": "acca9b2e-2f54-4b86-9a33-2c57502f6160",
   "metadata": {},
   "outputs": [
    {
     "data": {
      "image/svg+xml": [
       "<?xml version=\"1.0\" encoding=\"UTF-8\"?>\n",
       "<svg xmlns=\"http://www.w3.org/2000/svg\" xmlns:xlink=\"http://www.w3.org/1999/xlink\"\n",
       "     width=\"190\" height=\"190\" viewBox=\"-95.0 -95.0 190 190\">\n",
       "<defs>\n",
       "</defs>\n",
       "<rect x=\"-95\" y=\"-95\" width=\"190\" height=\"190\" fill=\"white\" />\n",
       "<path d=\"M54.641016151377535,-31.352306986329594 L-14.641016151377546,-16.044969691726 L-14.641016151377537,57.86539290917693 L54.64101615137754,42.558055614573334 L54.641016151377535,5.602874314121871 L19.999999999999996,13.25654296142367\" fill=\"none\" stroke=\"white\" stroke-width=\"16\" />\n",
       "<path d=\"M-14.641016151377546,-18.044969691726 L-54.64101615137754,-44.558055614573334\" stroke=\"white\" stroke-width=\"16\" />\n",
       "<path d=\"M54.641016151377535,-31.352306986329594 L-14.641016151377546,-16.044969691726 L-14.641016151377537,57.86539290917693 L54.64101615137754,42.558055614573334 L54.641016151377535,5.602874314121871 L19.999999999999996,13.25654296142367\" fill=\"none\" stroke=\"#F87A2D\" stroke-width=\"8\" />\n",
       "<path d=\"M-14.641016151377546,-18.044969691726 L-54.64101615137754,-44.558055614573334\" stroke=\"#F87A2D\" stroke-width=\"8\" />\n",
       "<circle cx=\"-54.64101615137754\" cy=\"-44.558055614573334\" r=\"16\" fill=\"#208BB4\" stroke=\"white\" stroke-width=\"4\" />\n",
       "<circle cx=\"-14.641016151377546\" cy=\"-18.044969691726\" r=\"16\" fill=\"#208BB4\" stroke=\"white\" stroke-width=\"4\" />\n",
       "<circle cx=\"54.641016151377535\" cy=\"-33.352306986329594\" r=\"16\" fill=\"#208BB4\" stroke=\"white\" stroke-width=\"4\" />\n",
       "<circle cx=\"-14.641016151377537\" cy=\"55.86539290917693\" r=\"16\" fill=\"#208BB4\" stroke=\"white\" stroke-width=\"4\" />\n",
       "<circle cx=\"54.64101615137754\" cy=\"40.558055614573334\" r=\"16\" fill=\"#208BB4\" stroke=\"white\" stroke-width=\"4\" />\n",
       "<circle cx=\"54.641016151377535\" cy=\"3.6028743141218706\" r=\"8\" fill=\"#208BB4\" stroke=\"white\" stroke-width=\"4\" />\n",
       "<circle cx=\"19.999999999999996\" cy=\"11.25654296142367\" r=\"8\" fill=\"#208BB4\" stroke=\"white\" stroke-width=\"4\" />\n",
       "<text x=\"-85\" y=\"52\" font-size=\"214\" text-anchor=\"middle\" font-family=\"Courier New\" fill=\"#818081\">[</text>\n",
       "<text x=\"85\" y=\"52\" font-size=\"214\" text-anchor=\"middle\" font-family=\"Courier New\" fill=\"#818081\">]</text>\n",
       "</svg>"
      ],
      "text/plain": [
       "<drawsvg.drawing.Drawing at 0x7fd9c41fb590>"
      ]
     },
     "execution_count": 6,
     "metadata": {},
     "output_type": "execute_result"
    }
   ],
   "source": [
    "create_logo(bracket_color=medium_gray, bg_color=\"white\")"
   ]
  },
  {
   "cell_type": "code",
   "execution_count": 7,
   "id": "f5d0086d-b50e-49eb-9aae-b0953cdc0045",
   "metadata": {},
   "outputs": [
    {
     "data": {
      "image/svg+xml": [
       "<?xml version=\"1.0\" encoding=\"UTF-8\"?>\n",
       "<svg xmlns=\"http://www.w3.org/2000/svg\" xmlns:xlink=\"http://www.w3.org/1999/xlink\"\n",
       "     width=\"190\" height=\"190\" viewBox=\"-95.0 -95.0 190 190\">\n",
       "<defs>\n",
       "</defs>\n",
       "<rect x=\"-95\" y=\"-95\" width=\"190\" height=\"190\" fill=\"black\" />\n",
       "<path d=\"M54.641016151377535,-31.352306986329594 L-14.641016151377546,-16.044969691726 L-14.641016151377537,57.86539290917693 L54.64101615137754,42.558055614573334 L54.641016151377535,5.602874314121871 L19.999999999999996,13.25654296142367\" fill=\"none\" stroke=\"white\" stroke-width=\"16\" />\n",
       "<path d=\"M-14.641016151377546,-18.044969691726 L-54.64101615137754,-44.558055614573334\" stroke=\"white\" stroke-width=\"16\" />\n",
       "<path d=\"M54.641016151377535,-31.352306986329594 L-14.641016151377546,-16.044969691726 L-14.641016151377537,57.86539290917693 L54.64101615137754,42.558055614573334 L54.641016151377535,5.602874314121871 L19.999999999999996,13.25654296142367\" fill=\"none\" stroke=\"#F87A2D\" stroke-width=\"8\" />\n",
       "<path d=\"M-14.641016151377546,-18.044969691726 L-54.64101615137754,-44.558055614573334\" stroke=\"#F87A2D\" stroke-width=\"8\" />\n",
       "<circle cx=\"-54.64101615137754\" cy=\"-44.558055614573334\" r=\"16\" fill=\"#208BB4\" stroke=\"white\" stroke-width=\"4\" />\n",
       "<circle cx=\"-14.641016151377546\" cy=\"-18.044969691726\" r=\"16\" fill=\"#208BB4\" stroke=\"white\" stroke-width=\"4\" />\n",
       "<circle cx=\"54.641016151377535\" cy=\"-33.352306986329594\" r=\"16\" fill=\"#208BB4\" stroke=\"white\" stroke-width=\"4\" />\n",
       "<circle cx=\"-14.641016151377537\" cy=\"55.86539290917693\" r=\"16\" fill=\"#208BB4\" stroke=\"white\" stroke-width=\"4\" />\n",
       "<circle cx=\"54.64101615137754\" cy=\"40.558055614573334\" r=\"16\" fill=\"#208BB4\" stroke=\"white\" stroke-width=\"4\" />\n",
       "<circle cx=\"54.641016151377535\" cy=\"3.6028743141218706\" r=\"8\" fill=\"#208BB4\" stroke=\"white\" stroke-width=\"4\" />\n",
       "<circle cx=\"19.999999999999996\" cy=\"11.25654296142367\" r=\"8\" fill=\"#208BB4\" stroke=\"white\" stroke-width=\"4\" />\n",
       "<text x=\"-85\" y=\"52\" font-size=\"214\" text-anchor=\"middle\" font-family=\"Courier New\" fill=\"#818081\">[</text>\n",
       "<text x=\"85\" y=\"52\" font-size=\"214\" text-anchor=\"middle\" font-family=\"Courier New\" fill=\"#818081\">]</text>\n",
       "</svg>"
      ],
      "text/plain": [
       "<drawsvg.drawing.Drawing at 0x7fd9c42253d0>"
      ]
     },
     "execution_count": 7,
     "metadata": {},
     "output_type": "execute_result"
    }
   ],
   "source": [
    "# Variant 0\n",
    "create_logo(bracket_color=medium_gray, bg_color=\"black\")"
   ]
  },
  {
   "cell_type": "code",
   "execution_count": 8,
   "id": "20f2d568-1f85-4a16-adca-953e0dcda861",
   "metadata": {},
   "outputs": [
    {
     "data": {
      "image/svg+xml": [
       "<?xml version=\"1.0\" encoding=\"UTF-8\"?>\n",
       "<svg xmlns=\"http://www.w3.org/2000/svg\" xmlns:xlink=\"http://www.w3.org/1999/xlink\"\n",
       "     width=\"190\" height=\"190\" viewBox=\"-95.0 -95.0 190 190\">\n",
       "<defs>\n",
       "</defs>\n",
       "<rect x=\"-95\" y=\"-95\" width=\"190\" height=\"190\" fill=\"black\" />\n",
       "<path d=\"M54.641016151377535,-31.352306986329594 L-14.641016151377546,-16.044969691726 L-14.641016151377537,57.86539290917693 L54.64101615137754,42.558055614573334 L54.641016151377535,5.602874314121871 L19.999999999999996,13.25654296142367\" fill=\"none\" stroke=\"#F87A2D\" stroke-width=\"8\" />\n",
       "<path d=\"M-14.641016151377546,-18.044969691726 L-54.64101615137754,-44.558055614573334\" stroke=\"#F87A2D\" stroke-width=\"8\" />\n",
       "<circle cx=\"-54.64101615137754\" cy=\"-44.558055614573334\" r=\"16\" fill=\"#208BB4\" stroke=\"white\" stroke-width=\"4\" />\n",
       "<circle cx=\"-14.641016151377546\" cy=\"-18.044969691726\" r=\"16\" fill=\"#208BB4\" stroke=\"white\" stroke-width=\"4\" />\n",
       "<circle cx=\"54.641016151377535\" cy=\"-33.352306986329594\" r=\"16\" fill=\"#208BB4\" stroke=\"white\" stroke-width=\"4\" />\n",
       "<circle cx=\"-14.641016151377537\" cy=\"55.86539290917693\" r=\"16\" fill=\"#208BB4\" stroke=\"white\" stroke-width=\"4\" />\n",
       "<circle cx=\"54.64101615137754\" cy=\"40.558055614573334\" r=\"16\" fill=\"#208BB4\" stroke=\"white\" stroke-width=\"4\" />\n",
       "<circle cx=\"54.641016151377535\" cy=\"3.6028743141218706\" r=\"8\" fill=\"#208BB4\" stroke=\"white\" stroke-width=\"4\" />\n",
       "<circle cx=\"19.999999999999996\" cy=\"11.25654296142367\" r=\"8\" fill=\"#208BB4\" stroke=\"white\" stroke-width=\"4\" />\n",
       "<text x=\"-85\" y=\"52\" font-size=\"214\" text-anchor=\"middle\" font-family=\"Courier New\" fill=\"#818081\">[</text>\n",
       "<text x=\"85\" y=\"52\" font-size=\"214\" text-anchor=\"middle\" font-family=\"Courier New\" fill=\"#818081\">]</text>\n",
       "</svg>"
      ],
      "text/plain": [
       "<drawsvg.drawing.Drawing at 0x7fd8b9a49510>"
      ]
     },
     "execution_count": 8,
     "metadata": {},
     "output_type": "execute_result"
    }
   ],
   "source": [
    "# Variant 1\n",
    "create_logo(bracket_color=medium_gray, bg_color=\"black\", edge_border_width=0)"
   ]
  },
  {
   "cell_type": "markdown",
   "id": "c4dce89d-e34c-4190-a068-7e78cdeea745",
   "metadata": {},
   "source": [
    "### For light mode"
   ]
  },
  {
   "cell_type": "code",
   "execution_count": 9,
   "id": "27137343-141a-422e-abd6-123af3416ea4",
   "metadata": {},
   "outputs": [
    {
     "data": {
      "image/svg+xml": [
       "<?xml version=\"1.0\" encoding=\"UTF-8\"?>\n",
       "<svg xmlns=\"http://www.w3.org/2000/svg\" xmlns:xlink=\"http://www.w3.org/1999/xlink\"\n",
       "     width=\"190\" height=\"190\" viewBox=\"-95.0 -95.0 190 190\">\n",
       "<defs>\n",
       "</defs>\n",
       "<rect x=\"-95\" y=\"-95\" width=\"190\" height=\"190\" fill=\"white\" />\n",
       "<path d=\"M54.641016151377535,-31.352306986329594 L-14.641016151377546,-16.044969691726 L-14.641016151377537,57.86539290917693 L54.64101615137754,42.558055614573334 L54.641016151377535,5.602874314121871 L19.999999999999996,13.25654296142367\" fill=\"none\" stroke=\"white\" stroke-width=\"16\" />\n",
       "<path d=\"M-14.641016151377546,-18.044969691726 L-54.64101615137754,-44.558055614573334\" stroke=\"white\" stroke-width=\"16\" />\n",
       "<path d=\"M54.641016151377535,-31.352306986329594 L-14.641016151377546,-16.044969691726 L-14.641016151377537,57.86539290917693 L54.64101615137754,42.558055614573334 L54.641016151377535,5.602874314121871 L19.999999999999996,13.25654296142367\" fill=\"none\" stroke=\"#F87A2D\" stroke-width=\"8\" />\n",
       "<path d=\"M-14.641016151377546,-18.044969691726 L-54.64101615137754,-44.558055614573334\" stroke=\"#F87A2D\" stroke-width=\"8\" />\n",
       "<circle cx=\"-54.64101615137754\" cy=\"-44.558055614573334\" r=\"16\" fill=\"#208BB4\" stroke=\"white\" stroke-width=\"4\" />\n",
       "<circle cx=\"-14.641016151377546\" cy=\"-18.044969691726\" r=\"16\" fill=\"#208BB4\" stroke=\"white\" stroke-width=\"4\" />\n",
       "<circle cx=\"54.641016151377535\" cy=\"-33.352306986329594\" r=\"16\" fill=\"#208BB4\" stroke=\"white\" stroke-width=\"4\" />\n",
       "<circle cx=\"-14.641016151377537\" cy=\"55.86539290917693\" r=\"16\" fill=\"#208BB4\" stroke=\"white\" stroke-width=\"4\" />\n",
       "<circle cx=\"54.64101615137754\" cy=\"40.558055614573334\" r=\"16\" fill=\"#208BB4\" stroke=\"white\" stroke-width=\"4\" />\n",
       "<circle cx=\"54.641016151377535\" cy=\"3.6028743141218706\" r=\"8\" fill=\"#208BB4\" stroke=\"white\" stroke-width=\"4\" />\n",
       "<circle cx=\"19.999999999999996\" cy=\"11.25654296142367\" r=\"8\" fill=\"#208BB4\" stroke=\"white\" stroke-width=\"4\" />\n",
       "<text x=\"-85\" y=\"52\" font-size=\"214\" text-anchor=\"middle\" font-family=\"Courier New\" fill=\"#4D4D4D\">[</text>\n",
       "<text x=\"85\" y=\"52\" font-size=\"214\" text-anchor=\"middle\" font-family=\"Courier New\" fill=\"#4D4D4D\">]</text>\n",
       "</svg>"
      ],
      "text/plain": [
       "<drawsvg.drawing.Drawing at 0x7fd9ee4d3cd0>"
      ]
     },
     "execution_count": 9,
     "metadata": {},
     "output_type": "execute_result"
    }
   ],
   "source": [
    "create_logo(bracket_color=dark_gray, bg_color=\"white\")"
   ]
  },
  {
   "cell_type": "markdown",
   "id": "8a70b0f7-c3c4-44ae-af09-8992400f362e",
   "metadata": {},
   "source": [
    "### For dark mode"
   ]
  },
  {
   "cell_type": "code",
   "execution_count": 10,
   "id": "3ab9bb40-d7a8-4788-9971-54a5779d284d",
   "metadata": {},
   "outputs": [
    {
     "data": {
      "image/svg+xml": [
       "<?xml version=\"1.0\" encoding=\"UTF-8\"?>\n",
       "<svg xmlns=\"http://www.w3.org/2000/svg\" xmlns:xlink=\"http://www.w3.org/1999/xlink\"\n",
       "     width=\"190\" height=\"190\" viewBox=\"-95.0 -95.0 190 190\">\n",
       "<defs>\n",
       "</defs>\n",
       "<rect x=\"-95\" y=\"-95\" width=\"190\" height=\"190\" fill=\"black\" />\n",
       "<path d=\"M54.641016151377535,-31.352306986329594 L-14.641016151377546,-16.044969691726 L-14.641016151377537,57.86539290917693 L54.64101615137754,42.558055614573334 L54.641016151377535,5.602874314121871 L19.999999999999996,13.25654296142367\" fill=\"none\" stroke=\"white\" stroke-width=\"16\" />\n",
       "<path d=\"M-14.641016151377546,-18.044969691726 L-54.64101615137754,-44.558055614573334\" stroke=\"white\" stroke-width=\"16\" />\n",
       "<path d=\"M54.641016151377535,-31.352306986329594 L-14.641016151377546,-16.044969691726 L-14.641016151377537,57.86539290917693 L54.64101615137754,42.558055614573334 L54.641016151377535,5.602874314121871 L19.999999999999996,13.25654296142367\" fill=\"none\" stroke=\"#F87A2D\" stroke-width=\"8\" />\n",
       "<path d=\"M-14.641016151377546,-18.044969691726 L-54.64101615137754,-44.558055614573334\" stroke=\"#F87A2D\" stroke-width=\"8\" />\n",
       "<circle cx=\"-54.64101615137754\" cy=\"-44.558055614573334\" r=\"16\" fill=\"#208BB4\" stroke=\"white\" stroke-width=\"4\" />\n",
       "<circle cx=\"-14.641016151377546\" cy=\"-18.044969691726\" r=\"16\" fill=\"#208BB4\" stroke=\"white\" stroke-width=\"4\" />\n",
       "<circle cx=\"54.641016151377535\" cy=\"-33.352306986329594\" r=\"16\" fill=\"#208BB4\" stroke=\"white\" stroke-width=\"4\" />\n",
       "<circle cx=\"-14.641016151377537\" cy=\"55.86539290917693\" r=\"16\" fill=\"#208BB4\" stroke=\"white\" stroke-width=\"4\" />\n",
       "<circle cx=\"54.64101615137754\" cy=\"40.558055614573334\" r=\"16\" fill=\"#208BB4\" stroke=\"white\" stroke-width=\"4\" />\n",
       "<circle cx=\"54.641016151377535\" cy=\"3.6028743141218706\" r=\"8\" fill=\"#208BB4\" stroke=\"white\" stroke-width=\"4\" />\n",
       "<circle cx=\"19.999999999999996\" cy=\"11.25654296142367\" r=\"8\" fill=\"#208BB4\" stroke=\"white\" stroke-width=\"4\" />\n",
       "<text x=\"-85\" y=\"52\" font-size=\"214\" text-anchor=\"middle\" font-family=\"Courier New\" fill=\"#C9D1D9\">[</text>\n",
       "<text x=\"85\" y=\"52\" font-size=\"214\" text-anchor=\"middle\" font-family=\"Courier New\" fill=\"#C9D1D9\">]</text>\n",
       "</svg>"
      ],
      "text/plain": [
       "<drawsvg.drawing.Drawing at 0x7fd8b8cc35d0>"
      ]
     },
     "execution_count": 10,
     "metadata": {},
     "output_type": "execute_result"
    }
   ],
   "source": [
    "# Variant 0\n",
    "create_logo(bracket_color=light_gray, bg_color=\"black\")"
   ]
  },
  {
   "cell_type": "code",
   "execution_count": 11,
   "id": "2a161fe5-e9d5-4a29-b4cc-20c7aea027a7",
   "metadata": {},
   "outputs": [
    {
     "data": {
      "image/svg+xml": [
       "<?xml version=\"1.0\" encoding=\"UTF-8\"?>\n",
       "<svg xmlns=\"http://www.w3.org/2000/svg\" xmlns:xlink=\"http://www.w3.org/1999/xlink\"\n",
       "     width=\"190\" height=\"190\" viewBox=\"-95.0 -95.0 190 190\">\n",
       "<defs>\n",
       "</defs>\n",
       "<rect x=\"-95\" y=\"-95\" width=\"190\" height=\"190\" fill=\"black\" />\n",
       "<path d=\"M54.641016151377535,-31.352306986329594 L-14.641016151377546,-16.044969691726 L-14.641016151377537,57.86539290917693 L54.64101615137754,42.558055614573334 L54.641016151377535,5.602874314121871 L19.999999999999996,13.25654296142367\" fill=\"none\" stroke=\"#F87A2D\" stroke-width=\"8\" />\n",
       "<path d=\"M-14.641016151377546,-18.044969691726 L-54.64101615137754,-44.558055614573334\" stroke=\"#F87A2D\" stroke-width=\"8\" />\n",
       "<circle cx=\"-54.64101615137754\" cy=\"-44.558055614573334\" r=\"16\" fill=\"#208BB4\" stroke=\"white\" stroke-width=\"4\" />\n",
       "<circle cx=\"-14.641016151377546\" cy=\"-18.044969691726\" r=\"16\" fill=\"#208BB4\" stroke=\"white\" stroke-width=\"4\" />\n",
       "<circle cx=\"54.641016151377535\" cy=\"-33.352306986329594\" r=\"16\" fill=\"#208BB4\" stroke=\"white\" stroke-width=\"4\" />\n",
       "<circle cx=\"-14.641016151377537\" cy=\"55.86539290917693\" r=\"16\" fill=\"#208BB4\" stroke=\"white\" stroke-width=\"4\" />\n",
       "<circle cx=\"54.64101615137754\" cy=\"40.558055614573334\" r=\"16\" fill=\"#208BB4\" stroke=\"white\" stroke-width=\"4\" />\n",
       "<circle cx=\"54.641016151377535\" cy=\"3.6028743141218706\" r=\"8\" fill=\"#208BB4\" stroke=\"white\" stroke-width=\"4\" />\n",
       "<circle cx=\"19.999999999999996\" cy=\"11.25654296142367\" r=\"8\" fill=\"#208BB4\" stroke=\"white\" stroke-width=\"4\" />\n",
       "<text x=\"-85\" y=\"52\" font-size=\"214\" text-anchor=\"middle\" font-family=\"Courier New\" fill=\"#C9D1D9\">[</text>\n",
       "<text x=\"85\" y=\"52\" font-size=\"214\" text-anchor=\"middle\" font-family=\"Courier New\" fill=\"#C9D1D9\">]</text>\n",
       "</svg>"
      ],
      "text/plain": [
       "<drawsvg.drawing.Drawing at 0x7fd8b8cc9910>"
      ]
     },
     "execution_count": 11,
     "metadata": {},
     "output_type": "execute_result"
    }
   ],
   "source": [
    "# Variant 1\n",
    "create_logo(bracket_color=light_gray, bg_color=\"black\", edge_border_width=0)"
   ]
  },
  {
   "cell_type": "code",
   "execution_count": 12,
   "id": "8316a01d-5908-4f16-84ce-9e929ca34685",
   "metadata": {},
   "outputs": [
    {
     "data": {
      "image/svg+xml": [
       "<?xml version=\"1.0\" encoding=\"UTF-8\"?>\n",
       "<svg xmlns=\"http://www.w3.org/2000/svg\" xmlns:xlink=\"http://www.w3.org/1999/xlink\"\n",
       "     width=\"190\" height=\"190\" viewBox=\"-95.0 -95.0 190 190\">\n",
       "<defs>\n",
       "</defs>\n",
       "<rect x=\"-95\" y=\"-95\" width=\"190\" height=\"190\" fill=\"black\" />\n",
       "<path d=\"M54.641016151377535,-31.352306986329594 L-14.641016151377546,-16.044969691726 L-14.641016151377537,57.86539290917693 L54.64101615137754,42.558055614573334 L54.641016151377535,5.602874314121871 L19.999999999999996,13.25654296142367\" fill=\"none\" stroke=\"#FFAF7E\" stroke-width=\"8\" />\n",
       "<path d=\"M-14.641016151377546,-18.044969691726 L-54.64101615137754,-44.558055614573334\" stroke=\"#FFAF7E\" stroke-width=\"8\" />\n",
       "<circle cx=\"-54.64101615137754\" cy=\"-44.558055614573334\" r=\"16\" fill=\"#68B5D3\" stroke=\"white\" stroke-width=\"4\" />\n",
       "<circle cx=\"-14.641016151377546\" cy=\"-18.044969691726\" r=\"16\" fill=\"#68B5D3\" stroke=\"white\" stroke-width=\"4\" />\n",
       "<circle cx=\"54.641016151377535\" cy=\"-33.352306986329594\" r=\"16\" fill=\"#68B5D3\" stroke=\"white\" stroke-width=\"4\" />\n",
       "<circle cx=\"-14.641016151377537\" cy=\"55.86539290917693\" r=\"16\" fill=\"#68B5D3\" stroke=\"white\" stroke-width=\"4\" />\n",
       "<circle cx=\"54.64101615137754\" cy=\"40.558055614573334\" r=\"16\" fill=\"#68B5D3\" stroke=\"white\" stroke-width=\"4\" />\n",
       "<circle cx=\"54.641016151377535\" cy=\"3.6028743141218706\" r=\"8\" fill=\"#68B5D3\" stroke=\"white\" stroke-width=\"4\" />\n",
       "<circle cx=\"19.999999999999996\" cy=\"11.25654296142367\" r=\"8\" fill=\"#68B5D3\" stroke=\"white\" stroke-width=\"4\" />\n",
       "<text x=\"-85\" y=\"52\" font-size=\"214\" text-anchor=\"middle\" font-family=\"Courier New\" fill=\"#C9D1D9\">[</text>\n",
       "<text x=\"85\" y=\"52\" font-size=\"214\" text-anchor=\"middle\" font-family=\"Courier New\" fill=\"#C9D1D9\">]</text>\n",
       "</svg>"
      ],
      "text/plain": [
       "<drawsvg.drawing.Drawing at 0x7fd8b8cd0190>"
      ]
     },
     "execution_count": 12,
     "metadata": {},
     "output_type": "execute_result"
    }
   ],
   "source": [
    "# Variant 2\n",
    "create_logo(\n",
    "    bracket_color=light_gray,\n",
    "    bg_color=\"black\",\n",
    "    edge_border_width=0,\n",
    "    node_color=light_blue,\n",
    "    edge_color=light_orange,\n",
    ")"
   ]
  },
  {
   "cell_type": "code",
   "execution_count": 13,
   "id": "174bb288-15ab-4643-862c-3a05f8d38538",
   "metadata": {},
   "outputs": [
    {
     "data": {
      "image/svg+xml": [
       "<?xml version=\"1.0\" encoding=\"UTF-8\"?>\n",
       "<svg xmlns=\"http://www.w3.org/2000/svg\" xmlns:xlink=\"http://www.w3.org/1999/xlink\"\n",
       "     width=\"190\" height=\"190\" viewBox=\"-95.0 -95.0 190 190\">\n",
       "<defs>\n",
       "</defs>\n",
       "<rect x=\"-95\" y=\"-95\" width=\"190\" height=\"190\" fill=\"black\" />\n",
       "<path d=\"M54.641016151377535,-31.352306986329594 L-14.641016151377546,-16.044969691726 L-14.641016151377537,57.86539290917693 L54.64101615137754,42.558055614573334 L54.641016151377535,5.602874314121871 L19.999999999999996,13.25654296142367\" fill=\"none\" stroke=\"#FFAF7E\" stroke-width=\"16\" />\n",
       "<path d=\"M-14.641016151377546,-18.044969691726 L-54.64101615137754,-44.558055614573334\" stroke=\"#FFAF7E\" stroke-width=\"16\" />\n",
       "<path d=\"M54.641016151377535,-31.352306986329594 L-14.641016151377546,-16.044969691726 L-14.641016151377537,57.86539290917693 L54.64101615137754,42.558055614573334 L54.641016151377535,5.602874314121871 L19.999999999999996,13.25654296142367\" fill=\"none\" stroke=\"#F87A2D\" stroke-width=\"8\" />\n",
       "<path d=\"M-14.641016151377546,-18.044969691726 L-54.64101615137754,-44.558055614573334\" stroke=\"#F87A2D\" stroke-width=\"8\" />\n",
       "<circle cx=\"-54.64101615137754\" cy=\"-44.558055614573334\" r=\"16\" fill=\"#208BB4\" stroke=\"#68B5D3\" stroke-width=\"4\" />\n",
       "<circle cx=\"-14.641016151377546\" cy=\"-18.044969691726\" r=\"16\" fill=\"#208BB4\" stroke=\"#68B5D3\" stroke-width=\"4\" />\n",
       "<circle cx=\"54.641016151377535\" cy=\"-33.352306986329594\" r=\"16\" fill=\"#208BB4\" stroke=\"#68B5D3\" stroke-width=\"4\" />\n",
       "<circle cx=\"-14.641016151377537\" cy=\"55.86539290917693\" r=\"16\" fill=\"#208BB4\" stroke=\"#68B5D3\" stroke-width=\"4\" />\n",
       "<circle cx=\"54.64101615137754\" cy=\"40.558055614573334\" r=\"16\" fill=\"#208BB4\" stroke=\"#68B5D3\" stroke-width=\"4\" />\n",
       "<circle cx=\"54.641016151377535\" cy=\"3.6028743141218706\" r=\"8\" fill=\"#208BB4\" stroke=\"#68B5D3\" stroke-width=\"4\" />\n",
       "<circle cx=\"19.999999999999996\" cy=\"11.25654296142367\" r=\"8\" fill=\"#208BB4\" stroke=\"#68B5D3\" stroke-width=\"4\" />\n",
       "<text x=\"-85\" y=\"52\" font-size=\"214\" text-anchor=\"middle\" font-family=\"Courier New\" fill=\"#C9D1D9\">[</text>\n",
       "<text x=\"85\" y=\"52\" font-size=\"214\" text-anchor=\"middle\" font-family=\"Courier New\" fill=\"#C9D1D9\">]</text>\n",
       "</svg>"
      ],
      "text/plain": [
       "<drawsvg.drawing.Drawing at 0x7fd8b8cd2290>"
      ]
     },
     "execution_count": 13,
     "metadata": {},
     "output_type": "execute_result"
    }
   ],
   "source": [
    "# Variant 3\n",
    "create_logo(\n",
    "    bracket_color=light_gray,\n",
    "    bg_color=\"black\",\n",
    "    edge_border_color=light_orange,\n",
    "    node_border_color=light_blue,\n",
    ")"
   ]
  },
  {
   "cell_type": "code",
   "execution_count": 14,
   "id": "917363b5-f40d-4cc5-813b-446d1e9e7bca",
   "metadata": {},
   "outputs": [
    {
     "data": {
      "image/svg+xml": [
       "<?xml version=\"1.0\" encoding=\"UTF-8\"?>\n",
       "<svg xmlns=\"http://www.w3.org/2000/svg\" xmlns:xlink=\"http://www.w3.org/1999/xlink\"\n",
       "     width=\"190\" height=\"190\" viewBox=\"-95.0 -95.0 190 190\">\n",
       "<defs>\n",
       "</defs>\n",
       "<rect x=\"-95\" y=\"-95\" width=\"190\" height=\"190\" fill=\"white\" />\n",
       "<path d=\"M54.641016151377535,-31.352306986329594 L-14.641016151377546,-16.044969691726 L-14.641016151377537,57.86539290917693 L54.64101615137754,42.558055614573334 L54.641016151377535,5.602874314121871 L19.999999999999996,13.25654296142367\" fill=\"none\" stroke=\"#FFAF7E\" stroke-width=\"16\" />\n",
       "<path d=\"M-14.641016151377546,-18.044969691726 L-54.64101615137754,-44.558055614573334\" stroke=\"#FFAF7E\" stroke-width=\"16\" />\n",
       "<path d=\"M54.641016151377535,-31.352306986329594 L-14.641016151377546,-16.044969691726 L-14.641016151377537,57.86539290917693 L54.64101615137754,42.558055614573334 L54.641016151377535,5.602874314121871 L19.999999999999996,13.25654296142367\" fill=\"none\" stroke=\"#F87A2D\" stroke-width=\"8\" />\n",
       "<path d=\"M-14.641016151377546,-18.044969691726 L-54.64101615137754,-44.558055614573334\" stroke=\"#F87A2D\" stroke-width=\"8\" />\n",
       "<circle cx=\"-54.64101615137754\" cy=\"-44.558055614573334\" r=\"16\" fill=\"#208BB4\" stroke=\"#68B5D3\" stroke-width=\"4\" />\n",
       "<circle cx=\"-14.641016151377546\" cy=\"-18.044969691726\" r=\"16\" fill=\"#208BB4\" stroke=\"#68B5D3\" stroke-width=\"4\" />\n",
       "<circle cx=\"54.641016151377535\" cy=\"-33.352306986329594\" r=\"16\" fill=\"#208BB4\" stroke=\"#68B5D3\" stroke-width=\"4\" />\n",
       "<circle cx=\"-14.641016151377537\" cy=\"55.86539290917693\" r=\"16\" fill=\"#208BB4\" stroke=\"#68B5D3\" stroke-width=\"4\" />\n",
       "<circle cx=\"54.64101615137754\" cy=\"40.558055614573334\" r=\"16\" fill=\"#208BB4\" stroke=\"#68B5D3\" stroke-width=\"4\" />\n",
       "<circle cx=\"54.641016151377535\" cy=\"3.6028743141218706\" r=\"8\" fill=\"#208BB4\" stroke=\"#68B5D3\" stroke-width=\"4\" />\n",
       "<circle cx=\"19.999999999999996\" cy=\"11.25654296142367\" r=\"8\" fill=\"#208BB4\" stroke=\"#68B5D3\" stroke-width=\"4\" />\n",
       "<text x=\"-85\" y=\"52\" font-size=\"214\" text-anchor=\"middle\" font-family=\"Courier New\" fill=\"#4D4D4D\">[</text>\n",
       "<text x=\"85\" y=\"52\" font-size=\"214\" text-anchor=\"middle\" font-family=\"Courier New\" fill=\"#4D4D4D\">]</text>\n",
       "</svg>"
      ],
      "text/plain": [
       "<drawsvg.drawing.Drawing at 0x7fd8b8cd1cd0>"
      ]
     },
     "execution_count": 14,
     "metadata": {},
     "output_type": "execute_result"
    }
   ],
   "source": [
    "# Variant 3 for light mode\n",
    "create_logo(\n",
    "    bracket_color=dark_gray,\n",
    "    bg_color=\"white\",\n",
    "    edge_border_color=light_orange,\n",
    "    node_border_color=light_blue,\n",
    ")"
   ]
  },
  {
   "cell_type": "code",
   "execution_count": 15,
   "id": "f44f2e90-5f55-481f-a7db-fda630a1ad20",
   "metadata": {},
   "outputs": [
    {
     "data": {
      "image/svg+xml": [
       "<?xml version=\"1.0\" encoding=\"UTF-8\"?>\n",
       "<svg xmlns=\"http://www.w3.org/2000/svg\" xmlns:xlink=\"http://www.w3.org/1999/xlink\"\n",
       "     width=\"190\" height=\"190\" viewBox=\"-95.0 -95.0 190 190\">\n",
       "<defs>\n",
       "</defs>\n",
       "<rect x=\"-95\" y=\"-95\" width=\"190\" height=\"190\" fill=\"black\" />\n",
       "<path d=\"M54.641016151377535,-31.352306986329594 L-14.641016151377546,-16.044969691726 L-14.641016151377537,57.86539290917693 L54.64101615137754,42.558055614573334 L54.641016151377535,5.602874314121871 L19.999999999999996,13.25654296142367\" fill=\"none\" stroke=\"black\" stroke-width=\"16\" />\n",
       "<path d=\"M-14.641016151377546,-18.044969691726 L-54.64101615137754,-44.558055614573334\" stroke=\"black\" stroke-width=\"16\" />\n",
       "<path d=\"M54.641016151377535,-31.352306986329594 L-14.641016151377546,-16.044969691726 L-14.641016151377537,57.86539290917693 L54.64101615137754,42.558055614573334 L54.641016151377535,5.602874314121871 L19.999999999999996,13.25654296142367\" fill=\"none\" stroke=\"#FFAF7E\" stroke-width=\"8\" />\n",
       "<path d=\"M-14.641016151377546,-18.044969691726 L-54.64101615137754,-44.558055614573334\" stroke=\"#FFAF7E\" stroke-width=\"8\" />\n",
       "<circle cx=\"-54.64101615137754\" cy=\"-44.558055614573334\" r=\"16\" fill=\"#68B5D3\" stroke=\"black\" stroke-width=\"4\" />\n",
       "<circle cx=\"-14.641016151377546\" cy=\"-18.044969691726\" r=\"16\" fill=\"#68B5D3\" stroke=\"black\" stroke-width=\"4\" />\n",
       "<circle cx=\"54.641016151377535\" cy=\"-33.352306986329594\" r=\"16\" fill=\"#68B5D3\" stroke=\"black\" stroke-width=\"4\" />\n",
       "<circle cx=\"-14.641016151377537\" cy=\"55.86539290917693\" r=\"16\" fill=\"#68B5D3\" stroke=\"black\" stroke-width=\"4\" />\n",
       "<circle cx=\"54.64101615137754\" cy=\"40.558055614573334\" r=\"16\" fill=\"#68B5D3\" stroke=\"black\" stroke-width=\"4\" />\n",
       "<circle cx=\"54.641016151377535\" cy=\"3.6028743141218706\" r=\"8\" fill=\"#68B5D3\" stroke=\"black\" stroke-width=\"4\" />\n",
       "<circle cx=\"19.999999999999996\" cy=\"11.25654296142367\" r=\"8\" fill=\"#68B5D3\" stroke=\"black\" stroke-width=\"4\" />\n",
       "<text x=\"-85\" y=\"52\" font-size=\"214\" text-anchor=\"middle\" font-family=\"Courier New\" fill=\"#C9D1D9\">[</text>\n",
       "<text x=\"85\" y=\"52\" font-size=\"214\" text-anchor=\"middle\" font-family=\"Courier New\" fill=\"#C9D1D9\">]</text>\n",
       "</svg>"
      ],
      "text/plain": [
       "<drawsvg.drawing.Drawing at 0x7fd8b8cd6f10>"
      ]
     },
     "execution_count": 15,
     "metadata": {},
     "output_type": "execute_result"
    }
   ],
   "source": [
    "# Variant 4\n",
    "create_logo(\n",
    "    bracket_color=light_gray,\n",
    "    bg_color=\"black\",\n",
    "    edge_color=light_orange,\n",
    "    edge_border_color=\"black\",\n",
    "    node_color=light_blue,\n",
    "    node_border_color=\"black\",\n",
    ")"
   ]
  },
  {
   "cell_type": "code",
   "execution_count": 16,
   "id": "65566321-1438-4ff2-a2be-aab94830607d",
   "metadata": {},
   "outputs": [
    {
     "data": {
      "image/svg+xml": [
       "<?xml version=\"1.0\" encoding=\"UTF-8\"?>\n",
       "<svg xmlns=\"http://www.w3.org/2000/svg\" xmlns:xlink=\"http://www.w3.org/1999/xlink\"\n",
       "     width=\"190\" height=\"190\" viewBox=\"-95.0 -95.0 190 190\">\n",
       "<defs>\n",
       "</defs>\n",
       "<rect x=\"-95\" y=\"-95\" width=\"190\" height=\"190\" fill=\"black\" />\n",
       "<path d=\"M54.641016151377535,-31.352306986329594 L-14.641016151377546,-16.044969691726 L-14.641016151377537,57.86539290917693 L54.64101615137754,42.558055614573334 L54.641016151377535,5.602874314121871 L19.999999999999996,13.25654296142367\" fill=\"none\" stroke=\"#463239\" stroke-width=\"16\" />\n",
       "<path d=\"M-14.641016151377546,-18.044969691726 L-54.64101615137754,-44.558055614573334\" stroke=\"#463239\" stroke-width=\"16\" />\n",
       "<path d=\"M54.641016151377535,-31.352306986329594 L-14.641016151377546,-16.044969691726 L-14.641016151377537,57.86539290917693 L54.64101615137754,42.558055614573334 L54.641016151377535,5.602874314121871 L19.999999999999996,13.25654296142367\" fill=\"none\" stroke=\"#F87A2D\" stroke-width=\"8\" />\n",
       "<path d=\"M-14.641016151377546,-18.044969691726 L-54.64101615137754,-44.558055614573334\" stroke=\"#F87A2D\" stroke-width=\"8\" />\n",
       "<circle cx=\"-54.64101615137754\" cy=\"-44.558055614573334\" r=\"16\" fill=\"#68B5D3\" stroke=\"#463239\" stroke-width=\"4\" />\n",
       "<circle cx=\"-14.641016151377546\" cy=\"-18.044969691726\" r=\"16\" fill=\"#68B5D3\" stroke=\"#463239\" stroke-width=\"4\" />\n",
       "<circle cx=\"54.641016151377535\" cy=\"-33.352306986329594\" r=\"16\" fill=\"#68B5D3\" stroke=\"#463239\" stroke-width=\"4\" />\n",
       "<circle cx=\"-14.641016151377537\" cy=\"55.86539290917693\" r=\"16\" fill=\"#68B5D3\" stroke=\"#463239\" stroke-width=\"4\" />\n",
       "<circle cx=\"54.64101615137754\" cy=\"40.558055614573334\" r=\"16\" fill=\"#68B5D3\" stroke=\"#463239\" stroke-width=\"4\" />\n",
       "<circle cx=\"54.641016151377535\" cy=\"3.6028743141218706\" r=\"8\" fill=\"#68B5D3\" stroke=\"#463239\" stroke-width=\"4\" />\n",
       "<circle cx=\"19.999999999999996\" cy=\"11.25654296142367\" r=\"8\" fill=\"#68B5D3\" stroke=\"#463239\" stroke-width=\"4\" />\n",
       "<text x=\"-85\" y=\"52\" font-size=\"214\" text-anchor=\"middle\" font-family=\"Courier New\" fill=\"#C9D1D9\">[</text>\n",
       "<text x=\"85\" y=\"52\" font-size=\"214\" text-anchor=\"middle\" font-family=\"Courier New\" fill=\"#C9D1D9\">]</text>\n",
       "</svg>"
      ],
      "text/plain": [
       "<drawsvg.drawing.Drawing at 0x7fd8b8ce0b10>"
      ]
     },
     "execution_count": 16,
     "metadata": {},
     "output_type": "execute_result"
    }
   ],
   "source": [
    "# Variant 5 (dark)\n",
    "create_logo(\n",
    "    bracket_color=light_gray,\n",
    "    bg_color=\"black\",\n",
    "    edge_border_color=eggplant,\n",
    "    node_color=light_blue,\n",
    "    node_border_color=eggplant,\n",
    ")"
   ]
  },
  {
   "cell_type": "code",
   "execution_count": 17,
   "id": "bf672773-ecdd-43c2-90ed-0b8b919528cd",
   "metadata": {},
   "outputs": [
    {
     "data": {
      "image/svg+xml": [
       "<?xml version=\"1.0\" encoding=\"UTF-8\"?>\n",
       "<svg xmlns=\"http://www.w3.org/2000/svg\" xmlns:xlink=\"http://www.w3.org/1999/xlink\"\n",
       "     width=\"190\" height=\"190\" viewBox=\"-95.0 -95.0 190 190\">\n",
       "<defs>\n",
       "</defs>\n",
       "<rect x=\"-95\" y=\"-95\" width=\"190\" height=\"190\" fill=\"white\" />\n",
       "<path d=\"M54.641016151377535,-31.352306986329594 L-14.641016151377546,-16.044969691726 L-14.641016151377537,57.86539290917693 L54.64101615137754,42.558055614573334 L54.641016151377535,5.602874314121871 L19.999999999999996,13.25654296142367\" fill=\"none\" stroke=\"#463239\" stroke-width=\"16\" />\n",
       "<path d=\"M-14.641016151377546,-18.044969691726 L-54.64101615137754,-44.558055614573334\" stroke=\"#463239\" stroke-width=\"16\" />\n",
       "<path d=\"M54.641016151377535,-31.352306986329594 L-14.641016151377546,-16.044969691726 L-14.641016151377537,57.86539290917693 L54.64101615137754,42.558055614573334 L54.641016151377535,5.602874314121871 L19.999999999999996,13.25654296142367\" fill=\"none\" stroke=\"#F87A2D\" stroke-width=\"8\" />\n",
       "<path d=\"M-14.641016151377546,-18.044969691726 L-54.64101615137754,-44.558055614573334\" stroke=\"#F87A2D\" stroke-width=\"8\" />\n",
       "<circle cx=\"-54.64101615137754\" cy=\"-44.558055614573334\" r=\"16\" fill=\"#68B5D3\" stroke=\"#463239\" stroke-width=\"4\" />\n",
       "<circle cx=\"-14.641016151377546\" cy=\"-18.044969691726\" r=\"16\" fill=\"#68B5D3\" stroke=\"#463239\" stroke-width=\"4\" />\n",
       "<circle cx=\"54.641016151377535\" cy=\"-33.352306986329594\" r=\"16\" fill=\"#68B5D3\" stroke=\"#463239\" stroke-width=\"4\" />\n",
       "<circle cx=\"-14.641016151377537\" cy=\"55.86539290917693\" r=\"16\" fill=\"#68B5D3\" stroke=\"#463239\" stroke-width=\"4\" />\n",
       "<circle cx=\"54.64101615137754\" cy=\"40.558055614573334\" r=\"16\" fill=\"#68B5D3\" stroke=\"#463239\" stroke-width=\"4\" />\n",
       "<circle cx=\"54.641016151377535\" cy=\"3.6028743141218706\" r=\"8\" fill=\"#68B5D3\" stroke=\"#463239\" stroke-width=\"4\" />\n",
       "<circle cx=\"19.999999999999996\" cy=\"11.25654296142367\" r=\"8\" fill=\"#68B5D3\" stroke=\"#463239\" stroke-width=\"4\" />\n",
       "<text x=\"-85\" y=\"52\" font-size=\"214\" text-anchor=\"middle\" font-family=\"Courier New\" fill=\"#4D4D4D\">[</text>\n",
       "<text x=\"85\" y=\"52\" font-size=\"214\" text-anchor=\"middle\" font-family=\"Courier New\" fill=\"#4D4D4D\">]</text>\n",
       "</svg>"
      ],
      "text/plain": [
       "<drawsvg.drawing.Drawing at 0x7fd8b8ce3350>"
      ]
     },
     "execution_count": 17,
     "metadata": {},
     "output_type": "execute_result"
    }
   ],
   "source": [
    "# Variant 5 (light)\n",
    "create_logo(\n",
    "    bracket_color=dark_gray,\n",
    "    bg_color=\"white\",\n",
    "    edge_border_color=eggplant,\n",
    "    node_color=light_blue,\n",
    "    node_border_color=eggplant,\n",
    ")"
   ]
  },
  {
   "cell_type": "code",
   "execution_count": 18,
   "id": "175d64aa-40c9-4734-9966-2b3928d96df6",
   "metadata": {},
   "outputs": [
    {
     "data": {
      "image/svg+xml": [
       "<?xml version=\"1.0\" encoding=\"UTF-8\"?>\n",
       "<svg xmlns=\"http://www.w3.org/2000/svg\" xmlns:xlink=\"http://www.w3.org/1999/xlink\"\n",
       "     width=\"190\" height=\"190\" viewBox=\"-95.0 -95.0 190 190\">\n",
       "<defs>\n",
       "</defs>\n",
       "<rect x=\"-95\" y=\"-95\" width=\"190\" height=\"190\" fill=\"black\" />\n",
       "<path d=\"M54.641016151377535,-31.352306986329594 L-14.641016151377546,-16.044969691726 L-14.641016151377537,57.86539290917693 L54.64101615137754,42.558055614573334 L54.641016151377535,5.602874314121871 L19.999999999999996,13.25654296142367\" fill=\"none\" stroke=\"#463239\" stroke-width=\"16\" />\n",
       "<path d=\"M-14.641016151377546,-18.044969691726 L-54.64101615137754,-44.558055614573334\" stroke=\"#463239\" stroke-width=\"16\" />\n",
       "<path d=\"M54.641016151377535,-31.352306986329594 L-14.641016151377546,-16.044969691726 L-14.641016151377537,57.86539290917693 L54.64101615137754,42.558055614573334 L54.641016151377535,5.602874314121871 L19.999999999999996,13.25654296142367\" fill=\"none\" stroke=\"#F87A2D\" stroke-width=\"8\" />\n",
       "<path d=\"M-14.641016151377546,-18.044969691726 L-54.64101615137754,-44.558055614573334\" stroke=\"#F87A2D\" stroke-width=\"8\" />\n",
       "<circle cx=\"-54.64101615137754\" cy=\"-44.558055614573334\" r=\"16\" fill=\"#68B5D3\" stroke=\"#463239\" stroke-width=\"4\" />\n",
       "<circle cx=\"-14.641016151377546\" cy=\"-18.044969691726\" r=\"16\" fill=\"#68B5D3\" stroke=\"#463239\" stroke-width=\"4\" />\n",
       "<circle cx=\"54.641016151377535\" cy=\"-33.352306986329594\" r=\"16\" fill=\"#68B5D3\" stroke=\"#463239\" stroke-width=\"4\" />\n",
       "<circle cx=\"-14.641016151377537\" cy=\"55.86539290917693\" r=\"16\" fill=\"#68B5D3\" stroke=\"#463239\" stroke-width=\"4\" />\n",
       "<circle cx=\"54.64101615137754\" cy=\"40.558055614573334\" r=\"16\" fill=\"#68B5D3\" stroke=\"#463239\" stroke-width=\"4\" />\n",
       "<circle cx=\"54.641016151377535\" cy=\"3.6028743141218706\" r=\"8\" fill=\"#68B5D3\" stroke=\"#463239\" stroke-width=\"4\" />\n",
       "<circle cx=\"19.999999999999996\" cy=\"11.25654296142367\" r=\"8\" fill=\"#68B5D3\" stroke=\"#463239\" stroke-width=\"4\" />\n",
       "<text x=\"-85\" y=\"52\" font-size=\"214\" text-anchor=\"middle\" font-family=\"Courier New\" fill=\"#818081\">[</text>\n",
       "<text x=\"85\" y=\"52\" font-size=\"214\" text-anchor=\"middle\" font-family=\"Courier New\" fill=\"#818081\">]</text>\n",
       "</svg>"
      ],
      "text/plain": [
       "<drawsvg.drawing.Drawing at 0x7fd8b8ce98d0>"
      ]
     },
     "execution_count": 18,
     "metadata": {},
     "output_type": "execute_result"
    }
   ],
   "source": [
    "# Variant 5 (light & dark)\n",
    "create_logo(\n",
    "    bracket_color=medium_gray,\n",
    "    bg_color=\"black\",\n",
    "    edge_border_color=eggplant,\n",
    "    node_color=light_blue,\n",
    "    node_border_color=eggplant,\n",
    ")"
   ]
  },
  {
   "cell_type": "code",
   "execution_count": 19,
   "id": "7aa17514-8ae4-42df-a841-582c0ff7cba6",
   "metadata": {},
   "outputs": [
    {
     "data": {
      "image/svg+xml": [
       "<?xml version=\"1.0\" encoding=\"UTF-8\"?>\n",
       "<svg xmlns=\"http://www.w3.org/2000/svg\" xmlns:xlink=\"http://www.w3.org/1999/xlink\"\n",
       "     width=\"190\" height=\"190\" viewBox=\"-95.0 -95.0 190 190\">\n",
       "<defs>\n",
       "</defs>\n",
       "<rect x=\"-95\" y=\"-95\" width=\"190\" height=\"190\" fill=\"white\" />\n",
       "<path d=\"M54.641016151377535,-31.352306986329594 L-14.641016151377546,-16.044969691726 L-14.641016151377537,57.86539290917693 L54.64101615137754,42.558055614573334 L54.641016151377535,5.602874314121871 L19.999999999999996,13.25654296142367\" fill=\"none\" stroke=\"#463239\" stroke-width=\"16\" />\n",
       "<path d=\"M-14.641016151377546,-18.044969691726 L-54.64101615137754,-44.558055614573334\" stroke=\"#463239\" stroke-width=\"16\" />\n",
       "<path d=\"M54.641016151377535,-31.352306986329594 L-14.641016151377546,-16.044969691726 L-14.641016151377537,57.86539290917693 L54.64101615137754,42.558055614573334 L54.641016151377535,5.602874314121871 L19.999999999999996,13.25654296142367\" fill=\"none\" stroke=\"#F87A2D\" stroke-width=\"8\" />\n",
       "<path d=\"M-14.641016151377546,-18.044969691726 L-54.64101615137754,-44.558055614573334\" stroke=\"#F87A2D\" stroke-width=\"8\" />\n",
       "<circle cx=\"-54.64101615137754\" cy=\"-44.558055614573334\" r=\"16\" fill=\"#68B5D3\" stroke=\"#463239\" stroke-width=\"4\" />\n",
       "<circle cx=\"-14.641016151377546\" cy=\"-18.044969691726\" r=\"16\" fill=\"#68B5D3\" stroke=\"#463239\" stroke-width=\"4\" />\n",
       "<circle cx=\"54.641016151377535\" cy=\"-33.352306986329594\" r=\"16\" fill=\"#68B5D3\" stroke=\"#463239\" stroke-width=\"4\" />\n",
       "<circle cx=\"-14.641016151377537\" cy=\"55.86539290917693\" r=\"16\" fill=\"#68B5D3\" stroke=\"#463239\" stroke-width=\"4\" />\n",
       "<circle cx=\"54.64101615137754\" cy=\"40.558055614573334\" r=\"16\" fill=\"#68B5D3\" stroke=\"#463239\" stroke-width=\"4\" />\n",
       "<circle cx=\"54.641016151377535\" cy=\"3.6028743141218706\" r=\"8\" fill=\"#68B5D3\" stroke=\"#463239\" stroke-width=\"4\" />\n",
       "<circle cx=\"19.999999999999996\" cy=\"11.25654296142367\" r=\"8\" fill=\"#68B5D3\" stroke=\"#463239\" stroke-width=\"4\" />\n",
       "<text x=\"-85\" y=\"52\" font-size=\"214\" text-anchor=\"middle\" font-family=\"Courier New\" fill=\"#818081\">[</text>\n",
       "<text x=\"85\" y=\"52\" font-size=\"214\" text-anchor=\"middle\" font-family=\"Courier New\" fill=\"#818081\">]</text>\n",
       "</svg>"
      ],
      "text/plain": [
       "<drawsvg.drawing.Drawing at 0x7fd8b8cebd10>"
      ]
     },
     "execution_count": 19,
     "metadata": {},
     "output_type": "execute_result"
    }
   ],
   "source": [
    "# Variant 5 (light & dark)\n",
    "create_logo(\n",
    "    bracket_color=medium_gray,\n",
    "    bg_color=\"white\",\n",
    "    edge_border_color=eggplant,\n",
    "    node_color=light_blue,\n",
    "    node_border_color=eggplant,\n",
    ")"
   ]
  },
  {
   "cell_type": "code",
   "execution_count": 20,
   "id": "ae39a9e1-dc41-411c-b111-09b78fac3f94",
   "metadata": {},
   "outputs": [
    {
     "data": {
      "image/svg+xml": [
       "<?xml version=\"1.0\" encoding=\"UTF-8\"?>\n",
       "<svg xmlns=\"http://www.w3.org/2000/svg\" xmlns:xlink=\"http://www.w3.org/1999/xlink\"\n",
       "     width=\"190\" height=\"190\" viewBox=\"-95.0 -95.0 190 190\">\n",
       "<defs>\n",
       "</defs>\n",
       "<rect x=\"-95\" y=\"-95\" width=\"190\" height=\"190\" fill=\"white\" />\n",
       "<path d=\"M54.641016151377535,-31.352306986329594 L-14.641016151377546,-16.044969691726 L-14.641016151377537,57.86539290917693 L54.64101615137754,42.558055614573334 L54.641016151377535,5.602874314121871 L19.999999999999996,13.25654296142367\" fill=\"none\" stroke=\"#F87A2D\" stroke-width=\"8\" />\n",
       "<path d=\"M-14.641016151377546,-18.044969691726 L-54.64101615137754,-44.558055614573334\" stroke=\"#F87A2D\" stroke-width=\"8\" />\n",
       "<circle cx=\"-54.64101615137754\" cy=\"-44.558055614573334\" r=\"16\" fill=\"#208BB4\" stroke=\"#68B5D3\" stroke-width=\"4\" />\n",
       "<circle cx=\"-14.641016151377546\" cy=\"-18.044969691726\" r=\"16\" fill=\"#208BB4\" stroke=\"#68B5D3\" stroke-width=\"4\" />\n",
       "<circle cx=\"54.641016151377535\" cy=\"-33.352306986329594\" r=\"16\" fill=\"#208BB4\" stroke=\"#68B5D3\" stroke-width=\"4\" />\n",
       "<circle cx=\"-14.641016151377537\" cy=\"55.86539290917693\" r=\"16\" fill=\"#208BB4\" stroke=\"#68B5D3\" stroke-width=\"4\" />\n",
       "<circle cx=\"54.64101615137754\" cy=\"40.558055614573334\" r=\"16\" fill=\"#208BB4\" stroke=\"#68B5D3\" stroke-width=\"4\" />\n",
       "<circle cx=\"54.641016151377535\" cy=\"3.6028743141218706\" r=\"8\" fill=\"#208BB4\" stroke=\"#68B5D3\" stroke-width=\"4\" />\n",
       "<circle cx=\"19.999999999999996\" cy=\"11.25654296142367\" r=\"8\" fill=\"#208BB4\" stroke=\"#68B5D3\" stroke-width=\"4\" />\n",
       "<text x=\"-85\" y=\"52\" font-size=\"214\" text-anchor=\"middle\" font-family=\"Courier New\" fill=\"#818081\">[</text>\n",
       "<text x=\"85\" y=\"52\" font-size=\"214\" text-anchor=\"middle\" font-family=\"Courier New\" fill=\"#818081\">]</text>\n",
       "</svg>"
      ],
      "text/plain": [
       "<drawsvg.drawing.Drawing at 0x7fd8b8cf1e90>"
      ]
     },
     "execution_count": 20,
     "metadata": {},
     "output_type": "execute_result"
    }
   ],
   "source": [
    "# Misc 0\n",
    "create_logo(\n",
    "    bracket_color=medium_gray, bg_color=\"white\", edge_border_width=0, node_border_color=light_blue\n",
    ")"
   ]
  },
  {
   "cell_type": "code",
   "execution_count": 21,
   "id": "490f2ea1-43fe-4310-bdd2-d4e931a70545",
   "metadata": {},
   "outputs": [
    {
     "data": {
      "image/svg+xml": [
       "<?xml version=\"1.0\" encoding=\"UTF-8\"?>\n",
       "<svg xmlns=\"http://www.w3.org/2000/svg\" xmlns:xlink=\"http://www.w3.org/1999/xlink\"\n",
       "     width=\"190\" height=\"190\" viewBox=\"-95.0 -95.0 190 190\">\n",
       "<defs>\n",
       "</defs>\n",
       "<rect x=\"-95\" y=\"-95\" width=\"190\" height=\"190\" fill=\"white\" />\n",
       "<path d=\"M54.641016151377535,-31.352306986329594 L-14.641016151377546,-16.044969691726 L-14.641016151377537,57.86539290917693 L54.64101615137754,42.558055614573334 L54.641016151377535,5.602874314121871 L19.999999999999996,13.25654296142367\" fill=\"none\" stroke=\"#F87A2D\" stroke-width=\"8\" />\n",
       "<path d=\"M-14.641016151377546,-18.044969691726 L-54.64101615137754,-44.558055614573334\" stroke=\"#F87A2D\" stroke-width=\"8\" />\n",
       "<circle cx=\"-54.64101615137754\" cy=\"-44.558055614573334\" r=\"16\" fill=\"#208BB4\" stroke=\"#C9D1D9\" stroke-width=\"4\" />\n",
       "<circle cx=\"-14.641016151377546\" cy=\"-18.044969691726\" r=\"16\" fill=\"#208BB4\" stroke=\"#C9D1D9\" stroke-width=\"4\" />\n",
       "<circle cx=\"54.641016151377535\" cy=\"-33.352306986329594\" r=\"16\" fill=\"#208BB4\" stroke=\"#C9D1D9\" stroke-width=\"4\" />\n",
       "<circle cx=\"-14.641016151377537\" cy=\"55.86539290917693\" r=\"16\" fill=\"#208BB4\" stroke=\"#C9D1D9\" stroke-width=\"4\" />\n",
       "<circle cx=\"54.64101615137754\" cy=\"40.558055614573334\" r=\"16\" fill=\"#208BB4\" stroke=\"#C9D1D9\" stroke-width=\"4\" />\n",
       "<circle cx=\"54.641016151377535\" cy=\"3.6028743141218706\" r=\"8\" fill=\"#208BB4\" stroke=\"#C9D1D9\" stroke-width=\"4\" />\n",
       "<circle cx=\"19.999999999999996\" cy=\"11.25654296142367\" r=\"8\" fill=\"#208BB4\" stroke=\"#C9D1D9\" stroke-width=\"4\" />\n",
       "<text x=\"-85\" y=\"52\" font-size=\"214\" text-anchor=\"middle\" font-family=\"Courier New\" fill=\"#818081\">[</text>\n",
       "<text x=\"85\" y=\"52\" font-size=\"214\" text-anchor=\"middle\" font-family=\"Courier New\" fill=\"#818081\">]</text>\n",
       "</svg>"
      ],
      "text/plain": [
       "<drawsvg.drawing.Drawing at 0x7fd8b8cf1790>"
      ]
     },
     "execution_count": 21,
     "metadata": {},
     "output_type": "execute_result"
    }
   ],
   "source": [
    "# Misc 1 (light & dark)\n",
    "create_logo(\n",
    "    bracket_color=medium_gray, bg_color=\"white\", edge_border_width=0, node_border_color=light_gray\n",
    ")"
   ]
  },
  {
   "cell_type": "code",
   "execution_count": 22,
   "id": "bbbc309a-40d5-40f2-a637-044f650a5761",
   "metadata": {},
   "outputs": [
    {
     "data": {
      "image/svg+xml": [
       "<?xml version=\"1.0\" encoding=\"UTF-8\"?>\n",
       "<svg xmlns=\"http://www.w3.org/2000/svg\" xmlns:xlink=\"http://www.w3.org/1999/xlink\"\n",
       "     width=\"190\" height=\"190\" viewBox=\"-95.0 -95.0 190 190\">\n",
       "<defs>\n",
       "</defs>\n",
       "<rect x=\"-95\" y=\"-95\" width=\"190\" height=\"190\" fill=\"black\" />\n",
       "<path d=\"M54.641016151377535,-31.352306986329594 L-14.641016151377546,-16.044969691726 L-14.641016151377537,57.86539290917693 L54.64101615137754,42.558055614573334 L54.641016151377535,5.602874314121871 L19.999999999999996,13.25654296142367\" fill=\"none\" stroke=\"#F87A2D\" stroke-width=\"8\" />\n",
       "<path d=\"M-14.641016151377546,-18.044969691726 L-54.64101615137754,-44.558055614573334\" stroke=\"#F87A2D\" stroke-width=\"8\" />\n",
       "<circle cx=\"-54.64101615137754\" cy=\"-44.558055614573334\" r=\"16\" fill=\"#208BB4\" stroke=\"#C9D1D9\" stroke-width=\"4\" />\n",
       "<circle cx=\"-14.641016151377546\" cy=\"-18.044969691726\" r=\"16\" fill=\"#208BB4\" stroke=\"#C9D1D9\" stroke-width=\"4\" />\n",
       "<circle cx=\"54.641016151377535\" cy=\"-33.352306986329594\" r=\"16\" fill=\"#208BB4\" stroke=\"#C9D1D9\" stroke-width=\"4\" />\n",
       "<circle cx=\"-14.641016151377537\" cy=\"55.86539290917693\" r=\"16\" fill=\"#208BB4\" stroke=\"#C9D1D9\" stroke-width=\"4\" />\n",
       "<circle cx=\"54.64101615137754\" cy=\"40.558055614573334\" r=\"16\" fill=\"#208BB4\" stroke=\"#C9D1D9\" stroke-width=\"4\" />\n",
       "<circle cx=\"54.641016151377535\" cy=\"3.6028743141218706\" r=\"8\" fill=\"#208BB4\" stroke=\"#C9D1D9\" stroke-width=\"4\" />\n",
       "<circle cx=\"19.999999999999996\" cy=\"11.25654296142367\" r=\"8\" fill=\"#208BB4\" stroke=\"#C9D1D9\" stroke-width=\"4\" />\n",
       "<text x=\"-85\" y=\"52\" font-size=\"214\" text-anchor=\"middle\" font-family=\"Courier New\" fill=\"#818081\">[</text>\n",
       "<text x=\"85\" y=\"52\" font-size=\"214\" text-anchor=\"middle\" font-family=\"Courier New\" fill=\"#818081\">]</text>\n",
       "</svg>"
      ],
      "text/plain": [
       "<drawsvg.drawing.Drawing at 0x7fd9c41e0810>"
      ]
     },
     "execution_count": 22,
     "metadata": {},
     "output_type": "execute_result"
    }
   ],
   "source": [
    "# Misc 1 (light & dark)\n",
    "create_logo(\n",
    "    bracket_color=medium_gray, bg_color=\"black\", edge_border_width=0, node_border_color=light_gray\n",
    ")"
   ]
  },
  {
   "cell_type": "code",
   "execution_count": 23,
   "id": "07858758-7de0-40ce-ba79-860f9b24461d",
   "metadata": {},
   "outputs": [
    {
     "data": {
      "image/svg+xml": [
       "<?xml version=\"1.0\" encoding=\"UTF-8\"?>\n",
       "<svg xmlns=\"http://www.w3.org/2000/svg\" xmlns:xlink=\"http://www.w3.org/1999/xlink\"\n",
       "     width=\"190\" height=\"190\" viewBox=\"-95.0 -95.0 190 190\">\n",
       "<defs>\n",
       "</defs>\n",
       "<rect x=\"-95\" y=\"-95\" width=\"190\" height=\"190\" fill=\"white\" />\n",
       "<path d=\"M54.641016151377535,-31.352306986329594 L-14.641016151377546,-16.044969691726 L-14.641016151377537,57.86539290917693 L54.64101615137754,42.558055614573334 L54.641016151377535,5.602874314121871 L19.999999999999996,13.25654296142367\" fill=\"none\" stroke=\"#4D4D4D\" stroke-width=\"16\" />\n",
       "<path d=\"M-14.641016151377546,-18.044969691726 L-54.64101615137754,-44.558055614573334\" stroke=\"#4D4D4D\" stroke-width=\"16\" />\n",
       "<path d=\"M54.641016151377535,-31.352306986329594 L-14.641016151377546,-16.044969691726 L-14.641016151377537,57.86539290917693 L54.64101615137754,42.558055614573334 L54.641016151377535,5.602874314121871 L19.999999999999996,13.25654296142367\" fill=\"none\" stroke=\"#FFAF7E\" stroke-width=\"8\" />\n",
       "<path d=\"M-14.641016151377546,-18.044969691726 L-54.64101615137754,-44.558055614573334\" stroke=\"#FFAF7E\" stroke-width=\"8\" />\n",
       "<circle cx=\"-54.64101615137754\" cy=\"-44.558055614573334\" r=\"16\" fill=\"#68B5D3\" stroke=\"#4D4D4D\" stroke-width=\"4\" />\n",
       "<circle cx=\"-14.641016151377546\" cy=\"-18.044969691726\" r=\"16\" fill=\"#68B5D3\" stroke=\"#4D4D4D\" stroke-width=\"4\" />\n",
       "<circle cx=\"54.641016151377535\" cy=\"-33.352306986329594\" r=\"16\" fill=\"#68B5D3\" stroke=\"#4D4D4D\" stroke-width=\"4\" />\n",
       "<circle cx=\"-14.641016151377537\" cy=\"55.86539290917693\" r=\"16\" fill=\"#68B5D3\" stroke=\"#4D4D4D\" stroke-width=\"4\" />\n",
       "<circle cx=\"54.64101615137754\" cy=\"40.558055614573334\" r=\"16\" fill=\"#68B5D3\" stroke=\"#4D4D4D\" stroke-width=\"4\" />\n",
       "<circle cx=\"54.641016151377535\" cy=\"3.6028743141218706\" r=\"8\" fill=\"#68B5D3\" stroke=\"#4D4D4D\" stroke-width=\"4\" />\n",
       "<circle cx=\"19.999999999999996\" cy=\"11.25654296142367\" r=\"8\" fill=\"#68B5D3\" stroke=\"#4D4D4D\" stroke-width=\"4\" />\n",
       "<text x=\"-85\" y=\"52\" font-size=\"214\" text-anchor=\"middle\" font-family=\"Courier New\" fill=\"#4D4D4D\">[</text>\n",
       "<text x=\"85\" y=\"52\" font-size=\"214\" text-anchor=\"middle\" font-family=\"Courier New\" fill=\"#4D4D4D\">]</text>\n",
       "</svg>"
      ],
      "text/plain": [
       "<drawsvg.drawing.Drawing at 0x7fd8b8d01ad0>"
      ]
     },
     "execution_count": 23,
     "metadata": {},
     "output_type": "execute_result"
    }
   ],
   "source": [
    "# Misc 2 (light)\n",
    "create_logo(\n",
    "    bracket_color=dark_gray,\n",
    "    bg_color=\"white\",\n",
    "    edge_border_color=dark_gray,\n",
    "    edge_color=light_orange,\n",
    "    node_border_color=dark_gray,\n",
    "    node_color=light_blue,\n",
    ")"
   ]
  },
  {
   "cell_type": "code",
   "execution_count": 24,
   "id": "78b64fa7-eab4-4a17-beea-f7e771dec9aa",
   "metadata": {},
   "outputs": [
    {
     "data": {
      "image/svg+xml": [
       "<?xml version=\"1.0\" encoding=\"UTF-8\"?>\n",
       "<svg xmlns=\"http://www.w3.org/2000/svg\" xmlns:xlink=\"http://www.w3.org/1999/xlink\"\n",
       "     width=\"190\" height=\"190\" viewBox=\"-95.0 -95.0 190 190\">\n",
       "<defs>\n",
       "</defs>\n",
       "<rect x=\"-95\" y=\"-95\" width=\"190\" height=\"190\" fill=\"black\" />\n",
       "<path d=\"M54.641016151377535,-31.352306986329594 L-14.641016151377546,-16.044969691726 L-14.641016151377537,57.86539290917693 L54.64101615137754,42.558055614573334 L54.641016151377535,5.602874314121871 L19.999999999999996,13.25654296142367\" fill=\"none\" stroke=\"#C9D1D9\" stroke-width=\"16\" />\n",
       "<path d=\"M-14.641016151377546,-18.044969691726 L-54.64101615137754,-44.558055614573334\" stroke=\"#C9D1D9\" stroke-width=\"16\" />\n",
       "<path d=\"M54.641016151377535,-31.352306986329594 L-14.641016151377546,-16.044969691726 L-14.641016151377537,57.86539290917693 L54.64101615137754,42.558055614573334 L54.641016151377535,5.602874314121871 L19.999999999999996,13.25654296142367\" fill=\"none\" stroke=\"#F87A2D\" stroke-width=\"8\" />\n",
       "<path d=\"M-14.641016151377546,-18.044969691726 L-54.64101615137754,-44.558055614573334\" stroke=\"#F87A2D\" stroke-width=\"8\" />\n",
       "<circle cx=\"-54.64101615137754\" cy=\"-44.558055614573334\" r=\"16\" fill=\"#208BB4\" stroke=\"#C9D1D9\" stroke-width=\"4\" />\n",
       "<circle cx=\"-14.641016151377546\" cy=\"-18.044969691726\" r=\"16\" fill=\"#208BB4\" stroke=\"#C9D1D9\" stroke-width=\"4\" />\n",
       "<circle cx=\"54.641016151377535\" cy=\"-33.352306986329594\" r=\"16\" fill=\"#208BB4\" stroke=\"#C9D1D9\" stroke-width=\"4\" />\n",
       "<circle cx=\"-14.641016151377537\" cy=\"55.86539290917693\" r=\"16\" fill=\"#208BB4\" stroke=\"#C9D1D9\" stroke-width=\"4\" />\n",
       "<circle cx=\"54.64101615137754\" cy=\"40.558055614573334\" r=\"16\" fill=\"#208BB4\" stroke=\"#C9D1D9\" stroke-width=\"4\" />\n",
       "<circle cx=\"54.641016151377535\" cy=\"3.6028743141218706\" r=\"8\" fill=\"#208BB4\" stroke=\"#C9D1D9\" stroke-width=\"4\" />\n",
       "<circle cx=\"19.999999999999996\" cy=\"11.25654296142367\" r=\"8\" fill=\"#208BB4\" stroke=\"#C9D1D9\" stroke-width=\"4\" />\n",
       "<text x=\"-85\" y=\"52\" font-size=\"214\" text-anchor=\"middle\" font-family=\"Courier New\" fill=\"#C9D1D9\">[</text>\n",
       "<text x=\"85\" y=\"52\" font-size=\"214\" text-anchor=\"middle\" font-family=\"Courier New\" fill=\"#C9D1D9\">]</text>\n",
       "</svg>"
      ],
      "text/plain": [
       "<drawsvg.drawing.Drawing at 0x7fd8b8ccbd10>"
      ]
     },
     "execution_count": 24,
     "metadata": {},
     "output_type": "execute_result"
    }
   ],
   "source": [
    "# Misc 3 (dark)\n",
    "create_logo(\n",
    "    bracket_color=light_gray,\n",
    "    bg_color=\"black\",\n",
    "    edge_border_color=light_gray,\n",
    "    node_border_color=light_gray,\n",
    ")"
   ]
  },
  {
   "cell_type": "code",
   "execution_count": 25,
   "id": "f8f96ab4-ea12-489e-9680-0d1a2ebc56df",
   "metadata": {},
   "outputs": [
    {
     "data": {
      "image/svg+xml": [
       "<?xml version=\"1.0\" encoding=\"UTF-8\"?>\n",
       "<svg xmlns=\"http://www.w3.org/2000/svg\" xmlns:xlink=\"http://www.w3.org/1999/xlink\"\n",
       "     width=\"190\" height=\"190\" viewBox=\"-95.0 -95.0 190 190\">\n",
       "<defs>\n",
       "</defs>\n",
       "<rect x=\"-95\" y=\"-95\" width=\"190\" height=\"190\" fill=\"white\" />\n",
       "<path d=\"M54.641016151377535,-31.352306986329594 L-14.641016151377546,-16.044969691726 L-14.641016151377537,57.86539290917693 L54.64101615137754,42.558055614573334 L54.641016151377535,5.602874314121871 L19.999999999999996,13.25654296142367\" fill=\"none\" stroke=\"white\" stroke-width=\"16\" />\n",
       "<path d=\"M-14.641016151377546,-18.044969691726 L-54.64101615137754,-44.558055614573334\" stroke=\"white\" stroke-width=\"16\" />\n",
       "<path d=\"M54.641016151377535,-31.352306986329594 L-14.641016151377546,-16.044969691726 L-14.641016151377537,57.86539290917693 L54.64101615137754,42.558055614573334 L54.641016151377535,5.602874314121871 L19.999999999999996,13.25654296142367\" fill=\"none\" stroke=\"#208BB4\" stroke-width=\"8\" />\n",
       "<path d=\"M-14.641016151377546,-18.044969691726 L-54.64101615137754,-44.558055614573334\" stroke=\"#208BB4\" stroke-width=\"8\" />\n",
       "<circle cx=\"-54.64101615137754\" cy=\"-44.558055614573334\" r=\"16\" fill=\"#F87A2D\" stroke=\"white\" stroke-width=\"4\" />\n",
       "<circle cx=\"-14.641016151377546\" cy=\"-18.044969691726\" r=\"16\" fill=\"#F87A2D\" stroke=\"white\" stroke-width=\"4\" />\n",
       "<circle cx=\"54.641016151377535\" cy=\"-33.352306986329594\" r=\"16\" fill=\"#F87A2D\" stroke=\"white\" stroke-width=\"4\" />\n",
       "<circle cx=\"-14.641016151377537\" cy=\"55.86539290917693\" r=\"16\" fill=\"#F87A2D\" stroke=\"white\" stroke-width=\"4\" />\n",
       "<circle cx=\"54.64101615137754\" cy=\"40.558055614573334\" r=\"16\" fill=\"#F87A2D\" stroke=\"white\" stroke-width=\"4\" />\n",
       "<circle cx=\"54.641016151377535\" cy=\"3.6028743141218706\" r=\"8\" fill=\"#F87A2D\" stroke=\"white\" stroke-width=\"4\" />\n",
       "<circle cx=\"19.999999999999996\" cy=\"11.25654296142367\" r=\"8\" fill=\"#F87A2D\" stroke=\"white\" stroke-width=\"4\" />\n",
       "<text x=\"-85\" y=\"52\" font-size=\"214\" text-anchor=\"middle\" font-family=\"Courier New\" fill=\"#818081\">[</text>\n",
       "<text x=\"85\" y=\"52\" font-size=\"214\" text-anchor=\"middle\" font-family=\"Courier New\" fill=\"#818081\">]</text>\n",
       "</svg>"
      ],
      "text/plain": [
       "<drawsvg.drawing.Drawing at 0x7fd8b8d049d0>"
      ]
     },
     "execution_count": 25,
     "metadata": {},
     "output_type": "execute_result"
    }
   ],
   "source": [
    "# Misc 4 (light & dark)\n",
    "create_logo(bracket_color=medium_gray, bg_color=\"white\", edge_color=blue, node_color=orange)"
   ]
  },
  {
   "cell_type": "code",
   "execution_count": 26,
   "id": "b304e83d-e258-49b2-b262-1bcdde4185b6",
   "metadata": {},
   "outputs": [
    {
     "data": {
      "image/svg+xml": [
       "<?xml version=\"1.0\" encoding=\"UTF-8\"?>\n",
       "<svg xmlns=\"http://www.w3.org/2000/svg\" xmlns:xlink=\"http://www.w3.org/1999/xlink\"\n",
       "     width=\"190\" height=\"190\" viewBox=\"-95.0 -95.0 190 190\">\n",
       "<defs>\n",
       "</defs>\n",
       "<rect x=\"-95\" y=\"-95\" width=\"190\" height=\"190\" fill=\"black\" />\n",
       "<path d=\"M54.641016151377535,-31.352306986329594 L-14.641016151377546,-16.044969691726 L-14.641016151377537,57.86539290917693 L54.64101615137754,42.558055614573334 L54.641016151377535,5.602874314121871 L19.999999999999996,13.25654296142367\" fill=\"none\" stroke=\"white\" stroke-width=\"16\" />\n",
       "<path d=\"M-14.641016151377546,-18.044969691726 L-54.64101615137754,-44.558055614573334\" stroke=\"white\" stroke-width=\"16\" />\n",
       "<path d=\"M54.641016151377535,-31.352306986329594 L-14.641016151377546,-16.044969691726 L-14.641016151377537,57.86539290917693 L54.64101615137754,42.558055614573334 L54.641016151377535,5.602874314121871 L19.999999999999996,13.25654296142367\" fill=\"none\" stroke=\"#208BB4\" stroke-width=\"8\" />\n",
       "<path d=\"M-14.641016151377546,-18.044969691726 L-54.64101615137754,-44.558055614573334\" stroke=\"#208BB4\" stroke-width=\"8\" />\n",
       "<circle cx=\"-54.64101615137754\" cy=\"-44.558055614573334\" r=\"16\" fill=\"#F87A2D\" stroke=\"white\" stroke-width=\"4\" />\n",
       "<circle cx=\"-14.641016151377546\" cy=\"-18.044969691726\" r=\"16\" fill=\"#F87A2D\" stroke=\"white\" stroke-width=\"4\" />\n",
       "<circle cx=\"54.641016151377535\" cy=\"-33.352306986329594\" r=\"16\" fill=\"#F87A2D\" stroke=\"white\" stroke-width=\"4\" />\n",
       "<circle cx=\"-14.641016151377537\" cy=\"55.86539290917693\" r=\"16\" fill=\"#F87A2D\" stroke=\"white\" stroke-width=\"4\" />\n",
       "<circle cx=\"54.64101615137754\" cy=\"40.558055614573334\" r=\"16\" fill=\"#F87A2D\" stroke=\"white\" stroke-width=\"4\" />\n",
       "<circle cx=\"54.641016151377535\" cy=\"3.6028743141218706\" r=\"8\" fill=\"#F87A2D\" stroke=\"white\" stroke-width=\"4\" />\n",
       "<circle cx=\"19.999999999999996\" cy=\"11.25654296142367\" r=\"8\" fill=\"#F87A2D\" stroke=\"white\" stroke-width=\"4\" />\n",
       "<text x=\"-85\" y=\"52\" font-size=\"214\" text-anchor=\"middle\" font-family=\"Courier New\" fill=\"#818081\">[</text>\n",
       "<text x=\"85\" y=\"52\" font-size=\"214\" text-anchor=\"middle\" font-family=\"Courier New\" fill=\"#818081\">]</text>\n",
       "</svg>"
      ],
      "text/plain": [
       "<drawsvg.drawing.Drawing at 0x7fd8b8d00f90>"
      ]
     },
     "execution_count": 26,
     "metadata": {},
     "output_type": "execute_result"
    }
   ],
   "source": [
    "# Misc 4 (light & dark)\n",
    "create_logo(bracket_color=medium_gray, bg_color=\"black\", edge_color=blue, node_color=orange)"
   ]
  },
  {
   "cell_type": "code",
   "execution_count": 27,
   "id": "2bb14d0a-2838-418f-9190-15fcb90a7748",
   "metadata": {},
   "outputs": [
    {
     "data": {
      "image/svg+xml": [
       "<?xml version=\"1.0\" encoding=\"UTF-8\"?>\n",
       "<svg xmlns=\"http://www.w3.org/2000/svg\" xmlns:xlink=\"http://www.w3.org/1999/xlink\"\n",
       "     width=\"190\" height=\"190\" viewBox=\"-95.0 -95.0 190 190\">\n",
       "<defs>\n",
       "</defs>\n",
       "<rect x=\"-95\" y=\"-95\" width=\"190\" height=\"190\" fill=\"black\" />\n",
       "<path d=\"M54.641016151377535,-31.352306986329594 L-14.641016151377546,-16.044969691726 L-14.641016151377537,57.86539290917693 L54.64101615137754,42.558055614573334 L54.641016151377535,5.602874314121871 L19.999999999999996,13.25654296142367\" fill=\"none\" stroke=\"#68B5D3\" stroke-width=\"8\" />\n",
       "<path d=\"M-14.641016151377546,-18.044969691726 L-54.64101615137754,-44.558055614573334\" stroke=\"#68B5D3\" stroke-width=\"8\" />\n",
       "<circle cx=\"-54.64101615137754\" cy=\"-44.558055614573334\" r=\"16\" fill=\"#F87A2D\" stroke=\"white\" stroke-width=\"4\" />\n",
       "<circle cx=\"-14.641016151377546\" cy=\"-18.044969691726\" r=\"16\" fill=\"#F87A2D\" stroke=\"white\" stroke-width=\"4\" />\n",
       "<circle cx=\"54.641016151377535\" cy=\"-33.352306986329594\" r=\"16\" fill=\"#F87A2D\" stroke=\"white\" stroke-width=\"4\" />\n",
       "<circle cx=\"-14.641016151377537\" cy=\"55.86539290917693\" r=\"16\" fill=\"#F87A2D\" stroke=\"white\" stroke-width=\"4\" />\n",
       "<circle cx=\"54.64101615137754\" cy=\"40.558055614573334\" r=\"16\" fill=\"#F87A2D\" stroke=\"white\" stroke-width=\"4\" />\n",
       "<circle cx=\"54.641016151377535\" cy=\"3.6028743141218706\" r=\"8\" fill=\"#F87A2D\" stroke=\"white\" stroke-width=\"4\" />\n",
       "<circle cx=\"19.999999999999996\" cy=\"11.25654296142367\" r=\"8\" fill=\"#F87A2D\" stroke=\"white\" stroke-width=\"4\" />\n",
       "<text x=\"-85\" y=\"52\" font-size=\"214\" text-anchor=\"middle\" font-family=\"Courier New\" fill=\"#C9D1D9\">[</text>\n",
       "<text x=\"85\" y=\"52\" font-size=\"214\" text-anchor=\"middle\" font-family=\"Courier New\" fill=\"#C9D1D9\">]</text>\n",
       "</svg>"
      ],
      "text/plain": [
       "<drawsvg.drawing.Drawing at 0x7fd8b8d01550>"
      ]
     },
     "execution_count": 27,
     "metadata": {},
     "output_type": "execute_result"
    }
   ],
   "source": [
    "# Misc 5 (dark)\n",
    "create_logo(\n",
    "    bracket_color=light_gray,\n",
    "    bg_color=\"black\",\n",
    "    edge_color=light_blue,\n",
    "    node_color=orange,\n",
    "    edge_border_width=0,\n",
    ")"
   ]
  },
  {
   "cell_type": "code",
   "execution_count": 28,
   "id": "d53046c1-8cbb-47fa-a88b-4d98958df26b",
   "metadata": {},
   "outputs": [],
   "source": [
    "if False:\n",
    "    # Don't set the background so it will be transparent\n",
    "    create_logo(bracket_color=medium_gray).save_svg(\"logo-medium.svg\")\n",
    "    create_logo(bracket_color=dark_gray).save_svg(\"logo-light.svg\")\n",
    "    create_logo(bracket_color=light_gray).save_svg(\"logo-dark.svg\")\n",
    "    d_color_palette.save_svg(\"color-palette.svg\")\n",
    "    d_color_wheel.save_svg(\"color-wheel.svg\")\n",
    "    d_color_palette.save_png(\"color-palette.png\")\n",
    "    d_color_wheel.save_png(\"color-wheel.png\")"
   ]
  },
  {
   "cell_type": "markdown",
   "id": "51093fab-600b-47d7-9809-fa0f16e7246f",
   "metadata": {},
   "source": [
    "### *NOTE: The font in the SVG files should be converted to paths, because not all systems have Courier New*"
   ]
  }
 ],
 "metadata": {
  "kernelspec": {
   "display_name": "Python 3 (ipykernel)",
   "language": "python",
   "name": "python3"
  },
  "language_info": {
   "codemirror_mode": {
    "name": "ipython",
    "version": 3
   },
   "file_extension": ".py",
   "mimetype": "text/x-python",
   "name": "python",
   "nbconvert_exporter": "python",
   "pygments_lexer": "ipython3",
   "version": "3.11.5"
  }
 },
 "nbformat": 4,
 "nbformat_minor": 5
}
